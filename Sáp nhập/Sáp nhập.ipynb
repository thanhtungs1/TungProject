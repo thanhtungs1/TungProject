{
 "cells": [
  {
   "cell_type": "code",
   "execution_count": null,
   "metadata": {},
   "outputs": [],
   "source": [
    "import pandas as pd\n",
    "import numpy as np\n",
    "import matplotlib.pyplot as plt\n",
    "import seaborn as sns\n",
    "from sklearn.cluster import KMeans"
   ]
  },
  {
   "cell_type": "markdown",
   "metadata": {},
   "source": [
    "**DataCleaning**"
   ]
  },
  {
   "cell_type": "code",
   "execution_count": null,
   "metadata": {},
   "outputs": [],
   "source": [
    "df = pd.read_csv ('E:\\githubb\\TungProject\\CustomerSegment\\Data\\Mall_Customers.csv')\n",
    "\n"
   ]
  },
  {
   "cell_type": "code",
   "execution_count": null,
   "metadata": {},
   "outputs": [],
   "source": [
    "df.shape\n"
   ]
  },
  {
   "cell_type": "code",
   "execution_count": null,
   "metadata": {},
   "outputs": [],
   "source": [
    "df.head ()"
   ]
  },
  {
   "cell_type": "code",
   "execution_count": null,
   "metadata": {},
   "outputs": [],
   "source": [
    "df.tail()"
   ]
  },
  {
   "cell_type": "code",
   "execution_count": null,
   "metadata": {},
   "outputs": [],
   "source": [
    "df.describe() "
   ]
  },
  {
   "cell_type": "code",
   "execution_count": null,
   "metadata": {},
   "outputs": [],
   "source": [
    "df.isnull().sum()"
   ]
  },
  {
   "cell_type": "markdown",
   "metadata": {},
   "source": [
    "**Data Analysis**"
   ]
  },
  {
   "cell_type": "code",
   "execution_count": null,
   "metadata": {},
   "outputs": [],
   "source": [
    "#Overall figure size\n",
    "plt.figure (figsize=(15,5))\n",
    "#Subplots : 1 row, 3 columns\n",
    "fig, axes = plt.subplots(1, 3, figsize=(16,4))\n",
    "#Plot1: Age distribution\n",
    "sns.histplot (df['Age'] , kde= True, bins = 26, ax = axes[0], color= 'g' )\n",
    "axes[0].set_title ('Distribution of Age') \n",
    "axes[0].set_xlabel('Age')\n",
    "axes[0].set_ylabel('Count')\n",
    "#Plot2: Anual Income distribution\n",
    "sns.histplot (df['Annual Income (k$)'] , kde= True, bins = 14, ax = axes[1],color= 'b' )\n",
    "axes[1].set_title ('Distribution of Annual Income ') \n",
    "axes[1].set_xlabel('Annual Income (k$)')\n",
    "axes[1].set_ylabel('Count')\n",
    "#Plot2: Spending Score distribution\n",
    "sns.histplot (df['Spending Score (1-100)'] , kde= True, bins = 20, ax = axes[2],color= 'r' )\n",
    "axes[2].set_title ('Distribution of Spending Score (1-100)') \n",
    "axes[2].set_xlabel('Spending Score (1-100)')\n",
    "axes[2].set_ylabel('Count')\n",
    "plt.show()"
   ]
  },
  {
   "cell_type": "code",
   "execution_count": null,
   "metadata": {},
   "outputs": [],
   "source": [
    "#Overall figure size\n",
    "plt.figure (figsize=(15,5))\n",
    "sns.countplot (data=df, y='Gender', hue='Gender', palette='Set2', legend=False)\n",
    "plt.show()"
   ]
  },
  {
   "cell_type": "markdown",
   "metadata": {},
   "source": [
    "**Distributions of gender**"
   ]
  },
  {
   "cell_type": "code",
   "execution_count": null,
   "metadata": {},
   "outputs": [],
   "source": [
    "# Set the overall figure size\n",
    "plt.figure(figsize=(8, 6))\n",
    "\n",
    "# Create subplots: 3 rows, 2 columns (for 6 plots)\n",
    "fig, axes = plt.subplots(3, 2, figsize=(8, 8))\n",
    "\n",
    "# Plot 1: Age distribution for Male\n",
    "sns.histplot(df[df['Gender'] == 'Male']['Age'], kde=True, color='g', ax=axes[0, 0], bins=26)\n",
    "axes[0, 0].set_title('Age Distribution (Male)')\n",
    "axes[0, 0].set_xlabel('Age')\n",
    "axes[0, 0].set_ylabel('Count')\n",
    "# Plot 2: Age distribution for Female\n",
    "sns.histplot(df[df['Gender'] == 'Female']['Age'], kde=True, color='r', ax=axes[0, 1], bins=26)\n",
    "axes[0, 1].set_title('Age Distribution (Female)')\n",
    "axes[0, 1].set_xlabel('Age')\n",
    "axes[0, 1].set_ylabel('Count')\n",
    "\n",
    "# Plot 3: Annual Income distribution for Male\n",
    "sns.histplot(df[df['Gender'] == 'Male']['Annual Income (k$)'], kde=True, color='g', ax=axes[1, 0], bins=14)\n",
    "axes[1, 0].set_title('Annual Income Distribution (Male)')\n",
    "axes[1, 0].set_xlabel('Annual Income (k$)')\n",
    "axes[1, 0].set_ylabel('Count')\n",
    "\n",
    "# Plot 4: Annual Income distribution for Female\n",
    "sns.histplot(df[df['Gender'] == 'Female']['Annual Income (k$)'], kde=True, color='r', ax=axes[1, 1], bins=14)\n",
    "axes[1, 1].set_title('Annual Income Distribution (Female)')\n",
    "axes[1, 1].set_xlabel('Annual Income (k$)')\n",
    "axes[1, 1].set_ylabel('Count')\n",
    "\n",
    "# Plot 5: Spending Score distribution for Male\n",
    "sns.histplot(df[df['Gender'] == 'Male']['Spending Score (1-100)'], kde=True, color='g', ax=axes[2, 0], bins=20)\n",
    "axes[2, 0].set_title('Spending Score Distribution (Male)')\n",
    "axes[2, 0].set_xlabel('Spending Score (1-100)')\n",
    "axes[2, 0].set_ylabel('Count')\n",
    "\n",
    "# Plot 6: Spending Score distribution for Female\n",
    "sns.histplot(df[df['Gender'] == 'Female']['Spending Score (1-100)'], kde=True, color='r', ax=axes[2, 1], bins=20)\n",
    "axes[2, 1].set_title('Spending Score Distribution (Female)')\n",
    "axes[2, 1].set_xlabel('Spending Score (1-100)')\n",
    "axes[2, 1].set_ylabel('Count')\n",
    "\n",
    "# Adjust the layout to avoid overlap\n",
    "plt.tight_layout()\n",
    "\n",
    "# Show the plots\n",
    "plt.show()"
   ]
  },
  {
   "cell_type": "markdown",
   "metadata": {},
   "source": [
    "**Clustering using Kmeans**"
   ]
  },
  {
   "cell_type": "code",
   "execution_count": null,
   "metadata": {},
   "outputs": [],
   "source": [
    "#Choose the number of clusters for Age and Spending Score\n",
    "wcss = []\n",
    "for k in range (1,11) : \n",
    "    kmeans = KMeans (n_clusters = k, random_state= 42 )\n",
    "    kmeans.fit (df[['Age' , 'Spending Score (1-100)']])\n",
    "    wcss.append (kmeans.inertia_ ) \n",
    "plt.figure ( figsize= (15,5))\n",
    "plt.grid ()\n",
    "plt.plot ( range(1,11), wcss, marker = '8' , color = 'blue'   )\n",
    "plt.xlabel ('K Value')\n",
    "plt.ylabel ('WCSS')\n",
    "\n",
    "\n"
   ]
  },
  {
   "cell_type": "markdown",
   "metadata": {},
   "source": [
    "**Let's try with k =4**"
   ]
  },
  {
   "cell_type": "code",
   "execution_count": null,
   "metadata": {},
   "outputs": [],
   "source": [
    "# K= 4\n",
    "X1 = df.loc [ :, ['Age' , 'Spending Score (1-100)']].values \n",
    "kmeans = KMeans ( n_clusters= 4)\n",
    "label = kmeans.fit_predict (X1)\n",
    "print (label)\n"
   ]
  },
  {
   "cell_type": "code",
   "execution_count": null,
   "metadata": {},
   "outputs": [],
   "source": [
    "print (kmeans.cluster_centers_)"
   ]
  },
  {
   "cell_type": "code",
   "execution_count": null,
   "metadata": {},
   "outputs": [],
   "source": [
    "plt.scatter ( X1[ :,0] , X1 [ :, 1], c= kmeans.labels_, cmap= 'rainbow')\n",
    "plt.scatter (kmeans.cluster_centers_[:,0] ,kmeans.cluster_centers_[:,1] , color = 'black' )\n",
    "plt.xlabel('Age')\n",
    "plt.ylabel('Spending Score (1-100)')\n",
    "plt.show()"
   ]
  },
  {
   "cell_type": "code",
   "execution_count": null,
   "metadata": {},
   "outputs": [],
   "source": [
    "#Choose the number of clusters for Annual Income and Spending ScoreScore\n",
    "X2 = df.loc [ :, ['Annual Income (k$)' , 'Spending Score (1-100)']].values \n",
    "wcss = []\n",
    "for k in range (1,11) : \n",
    "    kmeans = KMeans (n_clusters = k, random_state= 42 )\n",
    "    kmeans.fit (df[['Annual Income (k$)' , 'Spending Score (1-100)']])\n",
    "    wcss.append (kmeans.inertia_ ) \n",
    "plt.figure ( figsize= (15,5))\n",
    "plt.grid ()\n",
    "plt.plot ( range(1,11), wcss, marker = '8' , color = 'blue'   )\n",
    "plt.xlabel ('K Value')\n",
    "plt.ylabel ('WCSS')\n"
   ]
  },
  {
   "cell_type": "markdown",
   "metadata": {},
   "source": [
    "**Let 's try with k = 5**"
   ]
  },
  {
   "cell_type": "code",
   "execution_count": null,
   "metadata": {},
   "outputs": [],
   "source": [
    "# K= 5\n",
    "kmeans = KMeans ( n_clusters= 5)\n",
    "label = kmeans.fit_predict (X2)\n",
    "print (label)"
   ]
  },
  {
   "cell_type": "code",
   "execution_count": null,
   "metadata": {},
   "outputs": [],
   "source": [
    "print (kmeans.cluster_centers_)"
   ]
  },
  {
   "cell_type": "code",
   "execution_count": null,
   "metadata": {},
   "outputs": [],
   "source": [
    "plt.scatter ( X2[:,0] , X2[:, 1], c= kmeans.labels_, cmap= 'rainbow')\n",
    "plt.scatter (kmeans.cluster_centers_[:,0] ,kmeans.cluster_centers_[:,1] , color = 'black' )\n",
    "plt.xlabel('Annual Income (k$)e')\n",
    "plt.ylabel('Spending Score (1-100)')\n",
    "plt.show()\n",
    "\n"
   ]
  },
  {
   "cell_type": "code",
   "execution_count": null,
   "metadata": {},
   "outputs": [],
   "source": [
    "#Choose the number of clusters for age , annual income and spending score\n",
    "wcss = []\n",
    "for k in range (1,11) : \n",
    "    kmeans = KMeans (n_clusters = k, random_state= 00)\n",
    "    kmeans.fit ( df [['Age', 'Annual Income (k$)', 'Spending Score (1-100)']])\n",
    "    wcss.append (kmeans.inertia_ ) \n",
    "plt.figure ( figsize= (15,5))\n",
    "plt.grid ()\n",
    "plt.plot ( range(1,11), wcss, marker = '8' , color = 'green' )\n",
    "plt.xlabel ('K Value')\n",
    "plt.ylabel ('WCSS')\n",
    "\n"
   ]
  },
  {
   "cell_type": "code",
   "execution_count": null,
   "metadata": {},
   "outputs": [],
   "source": [
    "#k=6\n",
    "kmeans = KMeans (n_clusters= 6)\n",
    "label = kmeans.fit_predict (df [['Age', 'Annual Income (k$)', 'Spending Score (1-100)']])\n",
    "print(label)"
   ]
  },
  {
   "cell_type": "code",
   "execution_count": null,
   "metadata": {},
   "outputs": [],
   "source": [
    "print (kmeans.cluster_centers_)"
   ]
  }
 ],
 "metadata": {
  "kernelspec": {
   "display_name": "Python 3",
   "language": "python",
   "name": "python3"
  },
  "language_info": {
   "codemirror_mode": {
    "name": "ipython",
    "version": 3
   },
   "file_extension": ".py",
   "mimetype": "text/x-python",
   "name": "python",
   "nbconvert_exporter": "python",
   "pygments_lexer": "ipython3",
   "version": "3.12.6"
  }
 },
 "nbformat": 4,
 "nbformat_minor": 2
}
