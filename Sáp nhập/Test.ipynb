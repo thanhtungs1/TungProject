{
 "cells": [
  {
   "cell_type": "code",
   "execution_count": 1,
   "metadata": {},
   "outputs": [
    {
     "ename": "ModuleNotFoundError",
     "evalue": "No module named 'osmnx'",
     "output_type": "error",
     "traceback": [
      "\u001b[1;31m---------------------------------------------------------------------------\u001b[0m",
      "\u001b[1;31mModuleNotFoundError\u001b[0m                       Traceback (most recent call last)",
      "Cell \u001b[1;32mIn[1], line 1\u001b[0m\n\u001b[1;32m----> 1\u001b[0m \u001b[38;5;28;01mimport\u001b[39;00m \u001b[38;5;21;01mosmnx\u001b[39;00m \u001b[38;5;28;01mas\u001b[39;00m \u001b[38;5;21;01mox\u001b[39;00m\n\u001b[0;32m      3\u001b[0m \u001b[38;5;66;03m# Tải mạng lưới đường cho một thành phố hoặc khu vực\u001b[39;00m\n\u001b[0;32m      4\u001b[0m city_graph \u001b[38;5;241m=\u001b[39m ox\u001b[38;5;241m.\u001b[39mgraph_from_place(\u001b[38;5;124m\"\u001b[39m\u001b[38;5;124mYour City, Country\u001b[39m\u001b[38;5;124m\"\u001b[39m, network_type\u001b[38;5;241m=\u001b[39m\u001b[38;5;124m\"\u001b[39m\u001b[38;5;124mdrive\u001b[39m\u001b[38;5;124m\"\u001b[39m)\n",
      "\u001b[1;31mModuleNotFoundError\u001b[0m: No module named 'osmnx'"
     ]
    }
   ],
   "source": [
    "\n",
    "import osmnx as ox\n",
    "\n",
    "# Tải mạng lưới đường cho một thành phố hoặc khu vực\n",
    "city_graph = ox.graph_from_place(\"Your City, Country\", network_type=\"drive\")\n",
    "\n",
    "# Chuyển đổi mạng lưới thành GeoDataFrame để dễ truy vấn\n",
    "edges = ox.graph_to_gdfs(city_graph, nodes=False)\n",
    "\n",
    "# Lọc các đường có giới hạn cho xe tải\n",
    "truck_restrictions = edges[(edges[\"hgv\"] == \"no\") | \n",
    "                           (edges[\"maxweight\"].notna()) | \n",
    "                           (edges[\"maxheight\"].notna()) | \n",
    "                           (edges[\"maxlength\"].notna())]\n",
    "\n",
    "# Hiển thị các đường cấm xe tải hoặc có giới hạn\n",
    "print(truck_restrictions[[\"name\", \"hgv\", \"maxweight\", \"maxheight\", \"maxlength\"]])\n"
   ]
  },
  {
   "cell_type": "code",
   "execution_count": 1,
   "metadata": {},
   "outputs": [
    {
     "name": "stdout",
     "output_type": "stream",
     "text": [
      "{'success': False, 'message': 'Unauthenticated', 'data': [], 'log_id': '6749739c6f82e8'}\n"
     ]
    }
   ],
   "source": [
    "import requests\n",
    "\n",
    "url = \"https://web.ghtklab.com/api/v1/address/parse-address\"\n",
    "params = {\n",
    "    \"address\": \"8184/29 Tương Lộ 1, Quận Hinh Vân, Phường Bình Trị Đông A, Thành phố Hồ Chí Minh\",\n",
    "    \"form_id\": \"\"\n",
    "}\n",
    "\n",
    "response = requests.get(url, params=params)\n",
    "print(response.json())"
   ]
  },
  {
   "cell_type": "markdown",
   "metadata": {},
   "source": [
    "Test LCS"
   ]
  },
  {
   "cell_type": "code",
   "execution_count": 2,
   "metadata": {},
   "outputs": [
    {
     "name": "stdout",
     "output_type": "stream",
     "text": [
      "4\n"
     ]
    }
   ],
   "source": [
    "# A Naive recursive implementation of LCS problem\n",
    "\n",
    "# Returns length of LCS for s1[0..m-1], s2[0..n-1]\n",
    "def lcs(s1, s2, m, n):\n",
    "  \n",
    "    # Base case: If either string is empty, the length of LCS is 0\n",
    "    if m == 0 or n == 0:\n",
    "        return 0\n",
    "\n",
    "    # If the last characters of both substrings match\n",
    "    if s1[m - 1] == s2[n - 1]:\n",
    "\n",
    "        # Include this character in LCS and recur for remaining substrings\n",
    "        return 1 + lcs(s1, s2, m - 1, n - 1)\n",
    "\n",
    "    else:\n",
    "        # If the last characters do not match\n",
    "        # Recur for two cases:\n",
    "        # 1. Exclude the last character of S1 \n",
    "        # 2. Exclude the last character of S2 \n",
    "        # Take the maximum of these two recursive calls\n",
    "        return max(lcs(s1, s2, m, n - 1), lcs(s1, s2, m - 1, n))\n",
    "\n",
    "if __name__ == \"__main__\":\n",
    "    s1 = \"AGGTAB\"\n",
    "    s2 = \"GXTXAYB\"\n",
    "    m = len(s1)\n",
    "    n = len(s2)\n",
    "\n",
    "    print(lcs(s1, s2, m, n))"
   ]
  }
 ],
 "metadata": {
  "kernelspec": {
   "display_name": "Python 3",
   "language": "python",
   "name": "python3"
  },
  "language_info": {
   "codemirror_mode": {
    "name": "ipython",
    "version": 3
   },
   "file_extension": ".py",
   "mimetype": "text/x-python",
   "name": "python",
   "nbconvert_exporter": "python",
   "pygments_lexer": "ipython3",
   "version": "3.12.6"
  }
 },
 "nbformat": 4,
 "nbformat_minor": 2
}
