{
 "cells": [
  {
   "cell_type": "code",
   "execution_count": 29,
   "metadata": {},
   "outputs": [],
   "source": [
    "import pandas as pd\n",
    "import re\n",
    "\n",
    "df = pd.read_excel(r\"C:\\Users\\tungdt174\\Documents\\GitHub\\TungProject\\Sáp nhập\\Check_format_TQ.xlsx\")\n",
    "\n",
    "\n"
   ]
  },
  {
   "cell_type": "code",
   "execution_count": 40,
   "metadata": {},
   "outputs": [],
   "source": [
    " %reset -f\n"
   ]
  },
  {
   "cell_type": "code",
   "execution_count": 30,
   "metadata": {},
   "outputs": [
    {
     "name": "stdout",
     "output_type": "stream",
     "text": [
      "['Province', 'Name', 'Area', 'lat', 'lng']\n"
     ]
    }
   ],
   "source": [
    "print(df.columns.tolist())\n"
   ]
  },
  {
   "cell_type": "code",
   "execution_count": 32,
   "metadata": {},
   "outputs": [],
   "source": [
    "\n",
    "\n",
    "# Regex\n",
    "float5_pattern = re.compile(r\"^\\d+\\.\\d{1,5}$\")\n",
    "\n",
    "def check_float5_positive(val):\n",
    "    val = str(val).strip()\n",
    "    return bool(float5_pattern.fullmatch(val)) and float(val) > 0\n",
    "\n",
    "def fix_float5_positive(val):\n",
    "    try:\n",
    "        val_f = float(val)\n",
    "        if val_f <= 0:\n",
    "            return \"\"\n",
    "        val_str = f\"{val_f:.5f}\"\n",
    "        return val_str if check_float5_positive(val_str) else \"\"\n",
    "    except:\n",
    "        return \"\"\n",
    "\n",
    "df['lat_đúng_định_dạng'] = df['lat'].apply(check_float5_positive)\n",
    "df['lng_đúng_định_dạng'] = df['lng'].apply(check_float5_positive)\n",
    "\n",
    "df['lat_sửa'] = df['lat'].apply(lambda x: x if check_float5_positive(x) else fix_float5_positive(x))\n",
    "df['lng_sửa'] = df['lng'].apply(lambda x: x if check_float5_positive(x) else fix_float5_positive(x))\n",
    "\n",
    "df['trạng_thái_sửa'] = df.apply(\n",
    "    lambda row: 'OK' if row['lat_đúng_định_dạng'] and row['lng_đúng_định_dạng']\n",
    "    else ('SỬA lat' if not row['lat_đúng_định_dạng'] and row['lat_sửa'] != '' else '') +\n",
    "         (' SỬA lng' if not row['lng_đúng_định_dạng'] and row['lng_sửa'] != '' else '') +\n",
    "         (' LỖI' if row['lat_sửa'] == '' or row['lng_sửa'] == '' else ''),\n",
    "    axis=1\n",
    ")\n",
    "\n",
    "df.to_excel(\"lat_lng_chuan_hoa_TQ.xlsx\", index=False)\n",
    "\n"
   ]
  },
  {
   "cell_type": "code",
   "execution_count": 33,
   "metadata": {},
   "outputs": [
    {
     "name": "stdout",
     "output_type": "stream",
     "text": [
      "Success.\n",
      "                  Name                  lat  lat_đúng_định_dạng   lat_sửa  \\\n",
      "0    Phường Hà Giang 1           22.812.674               False             \n",
      "1    Phường Hà Giang 2           22.830.959               False             \n",
      "2         Xã Bạch Đích            23.215048               False  23.21505   \n",
      "3         Xã Bạch Ngọc            22.595865               False  22.59586   \n",
      "4           Xã Bản Máy            22.829915               False  22.82991   \n",
      "..                 ...                  ...                 ...       ...   \n",
      "119        Xã Xuân Vân  21.937827607355267,               False             \n",
      "120   Phường Minh Xuân            21.816555               False  21.81656   \n",
      "121  Phường Bình Thuận            21.034596               False  21.03460   \n",
      "122        Xã Đồng Tâm            22.512666               False  22.51267   \n",
      "123         Xã Tùng Bá           22.890.637               False             \n",
      "\n",
      "             lng  lng_đúng_định_dạng    lng_sửa   trạng_thái_sửa  \n",
      "0    104.983.764               False                         LỖI  \n",
      "1    104.988.785               False                         LỖI  \n",
      "2     105.051274               False  105.05127  SỬA lat SỬA lng  \n",
      "3     105.037944               False  105.03794  SỬA lat SỬA lng  \n",
      "4     104.585348               False  104.58535  SỬA lat SỬA lng  \n",
      "..           ...                 ...        ...              ...  \n",
      "119   105.234605               False  105.23460      SỬA lng LỖI  \n",
      "120   105.186743               False  105.18674  SỬA lat SỬA lng  \n",
      "121    105.83063               False  105.83063  SỬA lat SỬA lng  \n",
      "122   104.991916               False  104.99192  SỬA lat SỬA lng  \n",
      "123    105.06811               False  105.06811      SỬA lng LỖI  \n",
      "\n",
      "[124 rows x 8 columns]\n"
     ]
    }
   ],
   "source": [
    "print(\"Success.\")\n",
    "print(df[[\"Name\", \"lat\", \"lat_đúng_định_dạng\", \"lat_sửa\", \"lng\", \"lng_đúng_định_dạng\", \"lng_sửa\", \"trạng_thái_sửa\"]])"
   ]
  },
  {
   "cell_type": "code",
   "execution_count": 52,
   "metadata": {},
   "outputs": [],
   "source": [
    " %reset -f\n"
   ]
  },
  {
   "cell_type": "code",
   "execution_count": 53,
   "metadata": {},
   "outputs": [],
   "source": [
    "import pandas as pd\n",
    "import re\n",
    "\n",
    "df = pd.read_excel(r\"C:\\Users\\tungdt174\\Documents\\GitHub\\TungProject\\Sáp nhập\\Check_latlng_HT_LC.xlsx\")\n",
    "\n",
    "\n",
    "\n"
   ]
  },
  {
   "cell_type": "code",
   "execution_count": 54,
   "metadata": {},
   "outputs": [
    {
     "name": "stdout",
     "output_type": "stream",
     "text": [
      "['Province', 'Name', 'Area', 'Lat', 'Lng']\n"
     ]
    }
   ],
   "source": [
    "print(df.columns.tolist())\n"
   ]
  },
  {
   "cell_type": "code",
   "execution_count": 55,
   "metadata": {},
   "outputs": [
    {
     "name": "stdout",
     "output_type": "stream",
     "text": [
      "Done\n",
      "                   Name        Lat lat_chuan               Lng  lng_chuan\n",
      "0  Phường Bắc Hồng Lĩnh  18.530314  18.53031    105.695575,786  105.69557\n",
      "1     Phường Hà Huy Tập    18.3089             105.8859178,787  105.88591\n",
      "2       Phường Hải Ninh  18.124777  18.12477  106.3160909,3152  106.31609\n",
      "3      Phường Hoành Sơn  17.970513  17.97051   106.4680466,789  106.46804\n",
      "4  Phường Nam Hồng Lĩnh  18.524252  18.52425   105.6979952,786  105.69799\n"
     ]
    }
   ],
   "source": [
    "def clean_lat(val):\n",
    "    val = str(val).strip().replace('.', '').replace(',', '')\n",
    "    # Loại bỏ các dấu ở cuối nếu có\n",
    "    val = re.sub(r'[\\.,]+$', '', val)\n",
    "    if len(val) < 7:\n",
    "        return \"\"\n",
    "    # lat: 2 số đầu, dấu chấm, 5 số sau (xx.xxxxx)\n",
    "    result = val[:2] + '.' + val[2:7]\n",
    "    try:\n",
    "        float(result)\n",
    "        return result\n",
    "    except:\n",
    "        return \"\"\n",
    "\n",
    "def clean_lng(val):\n",
    "    val = str(val).strip().replace('.', '').replace(',', '')\n",
    "    # Loại bỏ các dấu ở cuối nếu có\n",
    "    val = re.sub(r'[\\.,]+$', '', val)\n",
    "    if len(val) < 8:\n",
    "        return \"\"\n",
    "    # lng: 3 số đầu, dấu chấm, 5 số sau (xxx.xxxxx)\n",
    "    result = val[:3] + '.' + val[3:8]\n",
    "    try:\n",
    "        float(result)\n",
    "        return result\n",
    "    except:\n",
    "        return \"\"\n",
    "\n",
    "df['lat_chuan'] = df['Lat'].apply(clean_lat)\n",
    "df['lng_chuan'] = df['Lng'].apply(clean_lng)\n",
    "\n",
    "df.to_excel(\"lat_lng_TN.xlsx\", index=False)\n",
    "print(\"Done\")\n",
    "\n",
    "print(df[['Name', 'Lat', 'lat_chuan', 'Lng', 'lng_chuan']].head())"
   ]
  }
 ],
 "metadata": {
  "kernelspec": {
   "display_name": "Python 3",
   "language": "python",
   "name": "python3"
  },
  "language_info": {
   "codemirror_mode": {
    "name": "ipython",
    "version": 3
   },
   "file_extension": ".py",
   "mimetype": "text/x-python",
   "name": "python",
   "nbconvert_exporter": "python",
   "pygments_lexer": "ipython3",
   "version": "3.12.6"
  }
 },
 "nbformat": 4,
 "nbformat_minor": 2
}
