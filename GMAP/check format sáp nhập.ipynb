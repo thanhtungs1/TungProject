{
 "cells": [
  {
   "cell_type": "code",
   "execution_count": 1,
   "metadata": {},
   "outputs": [],
   "source": [
    "import pandas as pd\n",
    "import numpy as np\n",
    "import matplotlib.pyplot as plt\n"
   ]
  },
  {
   "cell_type": "code",
   "execution_count": 5,
   "metadata": {},
   "outputs": [],
   "source": [
    "df = pd.read_excel(r\"C:\\Users\\tungdt174\\Documents\\GitHub\\TungProject\\Sáp nhập\\Data\\Hải Dương_sáp Nhập.xlsx\")"
   ]
  },
  {
   "cell_type": "code",
   "execution_count": 6,
   "metadata": {},
   "outputs": [
    {
     "data": {
      "text/plain": [
       "(252, 6)"
      ]
     },
     "execution_count": 6,
     "metadata": {},
     "output_type": "execute_result"
    }
   ],
   "source": [
    "df.shape"
   ]
  },
  {
   "cell_type": "code",
   "execution_count": 8,
   "metadata": {},
   "outputs": [
    {
     "data": {
      "text/html": [
       "<div>\n",
       "<style scoped>\n",
       "    .dataframe tbody tr th:only-of-type {\n",
       "        vertical-align: middle;\n",
       "    }\n",
       "\n",
       "    .dataframe tbody tr th {\n",
       "        vertical-align: top;\n",
       "    }\n",
       "\n",
       "    .dataframe thead th {\n",
       "        text-align: right;\n",
       "    }\n",
       "</style>\n",
       "<table border=\"1\" class=\"dataframe\">\n",
       "  <thead>\n",
       "    <tr style=\"text-align: right;\">\n",
       "      <th></th>\n",
       "      <th>Tỉnh thành</th>\n",
       "      <th>Quận huyện</th>\n",
       "      <th>Phường xã</th>\n",
       "      <th>ID_DCC3</th>\n",
       "      <th>Phường Xã sau sáp nhập</th>\n",
       "      <th>Sáp nhập 1 phần?</th>\n",
       "    </tr>\n",
       "  </thead>\n",
       "  <tbody>\n",
       "    <tr>\n",
       "      <th>0</th>\n",
       "      <td>Hải Dương</td>\n",
       "      <td>Huyện Bình Giang</td>\n",
       "      <td>Thị trấn Kẻ Sặt</td>\n",
       "      <td>7140</td>\n",
       "      <td>Xã Kẻ Sặt</td>\n",
       "      <td>Toàn bộ</td>\n",
       "    </tr>\n",
       "    <tr>\n",
       "      <th>1</th>\n",
       "      <td>Hải Dương</td>\n",
       "      <td>Huyện Bình Giang</td>\n",
       "      <td>Xã Bình Minh</td>\n",
       "      <td>7141</td>\n",
       "      <td>Xã Mễ Sở</td>\n",
       "      <td>Toàn bộ</td>\n",
       "    </tr>\n",
       "    <tr>\n",
       "      <th>2</th>\n",
       "      <td>Hải Dương</td>\n",
       "      <td>Huyện Bình Giang</td>\n",
       "      <td>Xã Bình Xuyên</td>\n",
       "      <td>7142</td>\n",
       "      <td>Xã Thượng Hồng</td>\n",
       "      <td>Toàn bộ</td>\n",
       "    </tr>\n",
       "    <tr>\n",
       "      <th>3</th>\n",
       "      <td>Hải Dương</td>\n",
       "      <td>Huyện Bình Giang</td>\n",
       "      <td>Xã Hùng Thắng</td>\n",
       "      <td>7145</td>\n",
       "      <td>Xã Kẻ Sặt</td>\n",
       "      <td>Toàn bộ</td>\n",
       "    </tr>\n",
       "    <tr>\n",
       "      <th>4</th>\n",
       "      <td>Hải Dương</td>\n",
       "      <td>Huyện Bình Giang</td>\n",
       "      <td>Xã Hưng Thịnh</td>\n",
       "      <td>7146</td>\n",
       "      <td>Xã Hưng Đạo</td>\n",
       "      <td>Toàn bộ</td>\n",
       "    </tr>\n",
       "  </tbody>\n",
       "</table>\n",
       "</div>"
      ],
      "text/plain": [
       "  Tỉnh thành        Quận huyện        Phường xã  ID_DCC3  \\\n",
       "0  Hải Dương  Huyện Bình Giang  Thị trấn Kẻ Sặt     7140   \n",
       "1  Hải Dương  Huyện Bình Giang     Xã Bình Minh     7141   \n",
       "2  Hải Dương  Huyện Bình Giang    Xã Bình Xuyên     7142   \n",
       "3  Hải Dương  Huyện Bình Giang    Xã Hùng Thắng     7145   \n",
       "4  Hải Dương  Huyện Bình Giang    Xã Hưng Thịnh     7146   \n",
       "\n",
       "  Phường Xã sau sáp nhập Sáp nhập 1 phần?  \n",
       "0              Xã Kẻ Sặt          Toàn bộ  \n",
       "1               Xã Mễ Sở          Toàn bộ  \n",
       "2         Xã Thượng Hồng          Toàn bộ  \n",
       "3              Xã Kẻ Sặt          Toàn bộ  \n",
       "4            Xã Hưng Đạo          Toàn bộ  "
      ]
     },
     "execution_count": 8,
     "metadata": {},
     "output_type": "execute_result"
    }
   ],
   "source": [
    "df.head()"
   ]
  },
  {
   "cell_type": "code",
   "execution_count": null,
   "metadata": {},
   "outputs": [],
   "source": [
    "import pandas as pd\n",
    "\n",
    "# Giả sử bạn đã load file excel vào df\n",
    "# df = pd.read_excel(\"ten_file.xlsx\")\n",
    "\n",
    "# Chuẩn hoá dữ liệu nếu cần (loại bỏ khoảng trắng thừa)\n",
    "df[\"Phường xã chuẩn\"] = df[\"Phường xã\"].str.strip()\n",
    "\n",
    "# Tìm các giá trị bị trùng (giữ lại tất cả bản sao)\n",
    "duplicates = df[df[\"Phường xã chuẩn\"].duplicated(keep=False)]\n",
    "\n",
    "# Hiển thị các bản ghi bị trùng\n",
    "print(duplicates[[\"Tỉnh thành\", \"Quận huyện\", \"Phường xã\"]])\n",
    "\n",
    "# Nếu bạn muốn xem danh sách duy nhất các giá trị bị trùng:\n",
    "duplicated_names = df[\"Phường xã chuẩn\"].value_counts()\n",
    "duplicated_names = duplicated_names[duplicated_names > 1]\n",
    "print(\"\\n📌 Danh sách phường xã bị trùng:\")\n",
    "print(duplicated_names)\n"
   ]
  },
  {
   "cell_type": "code",
   "execution_count": 34,
   "metadata": {},
   "outputs": [
    {
     "name": "stdout",
     "output_type": "stream",
     "text": [
      "                                    A1                                   B2  \\\n",
      "0  Xã Long HòaHuyện Châu ThànhTrà Vinh  Xã Long HoàHuyện Châu ThànhTrà Vinh   \n",
      "\n",
      "                               char_diff  \n",
      "0  Pos 10: 'ò' ≠ 'o' | Pos 11: 'a' ≠ 'à'  \n"
     ]
    }
   ],
   "source": [
    "import pandas as pd\n",
    "import unicodedata\n",
    "\n",
    "# ✅ Chuẩn hóa unicode\n",
    "def normalize_unicode(text):\n",
    "    if pd.isna(text): return \"\"\n",
    "    return unicodedata.normalize(\"NFKC\", str(text))\n",
    "\n",
    "# ✅ So sánh từng ký tự\n",
    "def char_diff(a, b):\n",
    "    norm_a = normalize_unicode(a)\n",
    "    norm_b = normalize_unicode(b)\n",
    "\n",
    "    max_len = max(len(norm_a), len(norm_b))\n",
    "    diffs = []\n",
    "\n",
    "    for i in range(max_len):\n",
    "        char_a = norm_a[i] if i < len(norm_a) else \"[EMPTY]\"\n",
    "        char_b = norm_b[i] if i < len(norm_b) else \"[EMPTY]\"\n",
    "        if char_a != char_b:\n",
    "            diffs.append(f\"Pos {i+1}: '{char_a}' ≠ '{char_b}'\")\n",
    "\n",
    "    if not diffs:\n",
    "        return \"✅ Giống nhau từng ký tự\"\n",
    "    return \" | \".join(diffs)\n",
    "\n",
    "# ✅ Load dữ liệu\n",
    "file_path = r\"C:\\Users\\tungdt174\\Documents\\GitHub\\TungProject\\Test unicode.xlsx\"\n",
    "df = pd.read_excel(file_path)\n",
    "\n",
    "# ✅ So sánh chuỗi từng ký tự\n",
    "df[\"char_diff\"] = df.apply(lambda row: char_diff(row[\"A1\"], row[\"B2\"]), axis=1)\n",
    "\n",
    "# ✅ Xem kết quả\n",
    "print(df[[\"A1\", \"B2\", \"char_diff\"]])\n"
   ]
  },
  {
   "cell_type": "code",
   "execution_count": 37,
   "metadata": {},
   "outputs": [],
   "source": [
    "#  Unicode\n",
    "\n",
    "\n",
    "import pandas as pd\n",
    "import unicodedata\n",
    "\n",
    "def remove_vietnamese_diacritics(text):\n",
    "    if pd.isna(text):\n",
    "        return \"\"\n",
    "\n",
    "    text = unicodedata.normalize('NFD', str(text))\n",
    "    # Loại bỏ các ký tự thuộc nhóm \"dấu\" (Mn = Mark, Nonspacing)\n",
    "    text = ''.join([c for c in text if unicodedata.category(c) != 'Mn'])\n",
    "    return text\n",
    "\n",
    "file_path = r\"C:\\Users\\tungdt174\\Documents\\GitHub\\TungProject\\Test unicode.xlsx\"\n",
    "df = pd.read_excel(file_path)\n",
    "\n",
    "if \"I\" in df.columns:\n",
    "    df[\"I_no_diacritics\"] = df[\"I\"].apply(remove_vietnamese_diacritics)\n",
    "else:\n",
    "    # Nếu là cột thứ 9 (vị trí thứ 8, vì đếm từ 0)\n",
    "    column_name = df.columns[8]\n",
    "    df[column_name + \"_no_diacritics\"] = df[column_name].apply(remove_vietnamese_diacritics)\n",
    "\n",
    "output_path = r\"C:\\Users\\tungdt174\\Documents\\GitHub\\TungProject\\output_no_diacritics.xlsx\"\n",
    "df.to_excel(output_path, index=False)\n",
    "\n"
   ]
  },
  {
   "cell_type": "code",
   "execution_count": 40,
   "metadata": {},
   "outputs": [],
   "source": [
    "import unicodedata\n",
    "\n",
    "def normalize_unicode(text):\n",
    "    if text is None:\n",
    "        return \"\"\n",
    "    return unicodedata.normalize(\"NFKC\", text)\n",
    "\n",
    "def detailed_unicode_diff(s1, s2):\n",
    "    s1_norm = normalize_unicode(s1)\n",
    "    s2_norm = normalize_unicode(s2)\n",
    "\n",
    "    max_len = max(len(s1_norm), len(s2_norm))\n",
    "    diffs = []\n",
    "\n",
    "    for i in range(max_len):\n",
    "        c1 = s1_norm[i] if i < len(s1_norm) else \"[EMPTY]\"\n",
    "        c2 = s2_norm[i] if i < len(s2_norm) else \"[EMPTY]\"\n",
    "        u1 = f\"U+{ord(c1):04X}\" if c1 != \"[EMPTY]\" else \"-\"\n",
    "        u2 = f\"U+{ord(c2):04X}\" if c2 != \"[EMPTY]\" else \"-\"\n",
    "\n",
    "        if c1 != c2:\n",
    "            diffs.append(\n",
    "                f\"❌ Pos {i+1}: '{c1}' ({u1}) ≠ '{c2}' ({u2})\"\n",
    "            )\n",
    "        else:\n",
    "            diffs.append(\n",
    "                f\"✅ Pos {i+1}: '{c1}' ({u1})\"\n",
    "            )\n",
    "\n",
    "    return \"\\n\".join(diffs)\n",
    "\n",
    "s1 = \"Xã Hồng SĩHuyện Hà QuảngCao Bằng\"\n",
    "s2 = \"Xã Hồng SỹHuyện Hà QuảngCao Bằng\"\n",
    "\n",
    "print(detailed_unicode_diff(s1, s2))\n"
   ]
  },
  {
   "cell_type": "code",
   "execution_count": 41,
   "metadata": {},
   "outputs": [
    {
     "name": "stdout",
     "output_type": "stream",
     "text": [
      "✅ Pos 1: 'X' (U+0058)\n",
      "✅ Pos 2: 'ã' (U+00E3)\n",
      "✅ Pos 3: ' ' (U+0020)\n",
      "✅ Pos 4: 'H' (U+0048)\n",
      "✅ Pos 5: 'ồ' (U+1ED3)\n",
      "✅ Pos 6: 'n' (U+006E)\n",
      "✅ Pos 7: 'g' (U+0067)\n",
      "✅ Pos 8: ' ' (U+0020)\n",
      "✅ Pos 9: 'S' (U+0053)\n",
      "❌ Pos 10: 'ĩ' (U+0129) ≠ 'ỹ' (U+1EF9)\n",
      "✅ Pos 11: 'H' (U+0048)\n",
      "✅ Pos 12: 'u' (U+0075)\n",
      "✅ Pos 13: 'y' (U+0079)\n",
      "✅ Pos 14: 'ệ' (U+1EC7)\n",
      "✅ Pos 15: 'n' (U+006E)\n",
      "✅ Pos 16: ' ' (U+0020)\n",
      "✅ Pos 17: 'H' (U+0048)\n",
      "✅ Pos 18: 'à' (U+00E0)\n",
      "✅ Pos 19: ' ' (U+0020)\n",
      "✅ Pos 20: 'Q' (U+0051)\n",
      "✅ Pos 21: 'u' (U+0075)\n",
      "✅ Pos 22: 'ả' (U+1EA3)\n",
      "✅ Pos 23: 'n' (U+006E)\n",
      "✅ Pos 24: 'g' (U+0067)\n",
      "✅ Pos 25: 'C' (U+0043)\n",
      "✅ Pos 26: 'a' (U+0061)\n",
      "✅ Pos 27: 'o' (U+006F)\n",
      "✅ Pos 28: ' ' (U+0020)\n",
      "✅ Pos 29: 'B' (U+0042)\n",
      "✅ Pos 30: 'ằ' (U+1EB1)\n",
      "✅ Pos 31: 'n' (U+006E)\n",
      "✅ Pos 32: 'g' (U+0067)\n"
     ]
    }
   ],
   "source": [
    "s1 = \"Xã Hồng SĩHuyện Hà QuảngCao Bằng\"\n",
    "s2 = \"Xã Hồng SỹHuyện Hà QuảngCao Bằng\"\n",
    "\n",
    "print(detailed_unicode_diff(s1, s2))\n"
   ]
  }
 ],
 "metadata": {
  "kernelspec": {
   "display_name": "Python 3",
   "language": "python",
   "name": "python3"
  },
  "language_info": {
   "codemirror_mode": {
    "name": "ipython",
    "version": 3
   },
   "file_extension": ".py",
   "mimetype": "text/x-python",
   "name": "python",
   "nbconvert_exporter": "python",
   "pygments_lexer": "ipython3",
   "version": "3.12.6"
  },
  "orig_nbformat": 4
 },
 "nbformat": 4,
 "nbformat_minor": 2
}
