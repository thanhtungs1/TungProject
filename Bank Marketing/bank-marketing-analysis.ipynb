{
 "cells": [
  {
   "cell_type": "code",
   "execution_count": 1,
   "metadata": {
    "_cell_guid": "b1076dfc-b9ad-4769-8c92-a6c4dae69d19",
    "_uuid": "8f2839f25d086af736a60e9eeb907d3b93b6e0e5"
   },
   "outputs": [
    {
     "name": "stdout",
     "output_type": "stream",
     "text": [
      "['bank.csv']\n"
     ]
    }
   ],
   "source": [
    "#import linear algebra and data manipulation libraries\n",
    "import numpy as np\n",
    "import pandas as pd\n",
    "\n",
    "#import standard visualization\n",
    "import matplotlib.pyplot as plt\n",
    "import seaborn as sns\n",
    "\n",
    "#import machine learning\n",
    "from sklearn.ensemble import RandomForestClassifier\n",
    "from sklearn.ensemble import AdaBoostClassifier, GradientBoostingClassifier\n",
    "from sklearn.svm import SVC\n",
    "from sklearn.neighbors import KNeighborsClassifier\n",
    "from sklearn.naive_bayes import GaussianNB\n",
    "\n",
    "import xgboost\n",
    "\n",
    "from sklearn.model_selection import train_test_split #split\n",
    "from sklearn.metrics import accuracy_score #metrics\n",
    "\n",
    "#tools for hyperparameters search\n",
    "from sklearn.model_selection import StratifiedKFold\n",
    "from sklearn.model_selection import RandomizedSearchCV, GridSearchCV\n",
    "\n",
    "import os\n",
    "print(os.listdir(\"../input\"))\n",
    "\n",
    "# Any results you write to the current directory are saved as output."
   ]
  },
  {
   "cell_type": "markdown",
   "metadata": {
    "_cell_guid": "79c7e3d0-c299-4dcb-8224-4455121ee9b0",
    "_uuid": "d629ff2d2480ee46fbb7e2d37f6b5fab8052498a",
    "collapsed": true
   },
   "source": [
    "## Introduction"
   ]
  },
  {
   "cell_type": "markdown",
   "metadata": {
    "_uuid": "9e15578b310a1d0d13d553665bab6440c63a6a6d"
   },
   "source": [
    "Today organizations, which hire data scientists are especially interested in job candidate's portfolio. Analysis of organization's marketing data is one of the most typical applications of data science and machine learning. Such analysis will definetely be a nice contribution to the protfolio."
   ]
  },
  {
   "cell_type": "markdown",
   "metadata": {
    "_uuid": "c2e8d457b1b48cbf0620c46d34e263988b723299"
   },
   "source": [
    "In general, datasets which contain marketing data can be used for 2 different business goals:\n",
    "1. Prediction of the results of the marketing campaign for each customer and clarification of factors which affect the campaign results. This helps to find out the ways how to make marketing campaigns more efficient.\n",
    "2. Finding out customer segments, using data for customers, who subscribed to term deposit. This helps to identify the profile of a customer, who is more likely to acquire the product and develop more targeted marketing campaigns."
   ]
  },
  {
   "cell_type": "markdown",
   "metadata": {
    "_uuid": "7590dd2b74b0be93f6f399c4abf1d2f9bd3ff4e2"
   },
   "source": [
    "This dataset contains banking marketing campaign data and we can use it to optimize marketing campaigns to attract more customers to term deposit subscription.\n",
    "Detailed description of the dataset's content is describe in this  [kaggle kernel](https://www.kaggle.com/janiobachmann/marketing-in-banking-opening-term-deposits)."
   ]
  },
  {
   "cell_type": "markdown",
   "metadata": {
    "_uuid": "720cfa1e5c36ea2dfac954d9d5eb760958ec5667"
   },
   "source": [
    "## Approach"
   ]
  },
  {
   "cell_type": "markdown",
   "metadata": {
    "_uuid": "495940c4620fb403272f84d0b7c9b570eddfa129"
   },
   "source": [
    "In order to optimize marketing campaigns with the help of the dataset, we will have to take the following steps:\n",
    "1. Import data from dataset and perform initial high-level analysis: look at the number of rows, look at the missing values, look at dataset columns and their values respective to the campaign outcome.\n",
    "2. Clean the data: remove irrelevant columns, deal with missing and incorrect values, turn categorical columns into dummy variables.\n",
    "3. Use machine learning techniques to predict the marketing campaign outcome and to find out factors, which affect the success of the campaign."
   ]
  },
  {
   "cell_type": "markdown",
   "metadata": {
    "_uuid": "d057ad9813d19401880ce8b371182932116a1f7c"
   },
   "source": [
    "## Import Data"
   ]
  },
  {
   "cell_type": "markdown",
   "metadata": {
    "_uuid": "5a4dadfb35b585a67718e07b59e9da0eebe61763"
   },
   "source": [
    "First of all to perform the analysis, we have to import the data:"
   ]
  },
  {
   "cell_type": "code",
   "execution_count": 2,
   "metadata": {
    "_uuid": "a9e0b0369f8fae1a5698b145fa7617324442ddc9"
   },
   "outputs": [],
   "source": [
    "#import dataset\n",
    "\n",
    "df = pd.read_csv('../input/bank.csv')"
   ]
  },
  {
   "cell_type": "code",
   "execution_count": 3,
   "metadata": {
    "_uuid": "266f8b3610c11aa8e0daad0e60f8f6ae47a5835f"
   },
   "outputs": [
    {
     "data": {
      "text/html": [
       "<div>\n",
       "<style scoped>\n",
       "    .dataframe tbody tr th:only-of-type {\n",
       "        vertical-align: middle;\n",
       "    }\n",
       "\n",
       "    .dataframe tbody tr th {\n",
       "        vertical-align: top;\n",
       "    }\n",
       "\n",
       "    .dataframe thead th {\n",
       "        text-align: right;\n",
       "    }\n",
       "</style>\n",
       "<table border=\"1\" class=\"dataframe\">\n",
       "  <thead>\n",
       "    <tr style=\"text-align: right;\">\n",
       "      <th></th>\n",
       "      <th>age</th>\n",
       "      <th>job</th>\n",
       "      <th>marital</th>\n",
       "      <th>education</th>\n",
       "      <th>default</th>\n",
       "      <th>balance</th>\n",
       "      <th>housing</th>\n",
       "      <th>loan</th>\n",
       "      <th>contact</th>\n",
       "      <th>day</th>\n",
       "      <th>month</th>\n",
       "      <th>duration</th>\n",
       "      <th>campaign</th>\n",
       "      <th>pdays</th>\n",
       "      <th>previous</th>\n",
       "      <th>poutcome</th>\n",
       "      <th>deposit</th>\n",
       "    </tr>\n",
       "  </thead>\n",
       "  <tbody>\n",
       "    <tr>\n",
       "      <th>0</th>\n",
       "      <td>59</td>\n",
       "      <td>admin.</td>\n",
       "      <td>married</td>\n",
       "      <td>secondary</td>\n",
       "      <td>no</td>\n",
       "      <td>2343</td>\n",
       "      <td>yes</td>\n",
       "      <td>no</td>\n",
       "      <td>unknown</td>\n",
       "      <td>5</td>\n",
       "      <td>may</td>\n",
       "      <td>1042</td>\n",
       "      <td>1</td>\n",
       "      <td>-1</td>\n",
       "      <td>0</td>\n",
       "      <td>unknown</td>\n",
       "      <td>yes</td>\n",
       "    </tr>\n",
       "    <tr>\n",
       "      <th>1</th>\n",
       "      <td>56</td>\n",
       "      <td>admin.</td>\n",
       "      <td>married</td>\n",
       "      <td>secondary</td>\n",
       "      <td>no</td>\n",
       "      <td>45</td>\n",
       "      <td>no</td>\n",
       "      <td>no</td>\n",
       "      <td>unknown</td>\n",
       "      <td>5</td>\n",
       "      <td>may</td>\n",
       "      <td>1467</td>\n",
       "      <td>1</td>\n",
       "      <td>-1</td>\n",
       "      <td>0</td>\n",
       "      <td>unknown</td>\n",
       "      <td>yes</td>\n",
       "    </tr>\n",
       "    <tr>\n",
       "      <th>2</th>\n",
       "      <td>41</td>\n",
       "      <td>technician</td>\n",
       "      <td>married</td>\n",
       "      <td>secondary</td>\n",
       "      <td>no</td>\n",
       "      <td>1270</td>\n",
       "      <td>yes</td>\n",
       "      <td>no</td>\n",
       "      <td>unknown</td>\n",
       "      <td>5</td>\n",
       "      <td>may</td>\n",
       "      <td>1389</td>\n",
       "      <td>1</td>\n",
       "      <td>-1</td>\n",
       "      <td>0</td>\n",
       "      <td>unknown</td>\n",
       "      <td>yes</td>\n",
       "    </tr>\n",
       "    <tr>\n",
       "      <th>3</th>\n",
       "      <td>55</td>\n",
       "      <td>services</td>\n",
       "      <td>married</td>\n",
       "      <td>secondary</td>\n",
       "      <td>no</td>\n",
       "      <td>2476</td>\n",
       "      <td>yes</td>\n",
       "      <td>no</td>\n",
       "      <td>unknown</td>\n",
       "      <td>5</td>\n",
       "      <td>may</td>\n",
       "      <td>579</td>\n",
       "      <td>1</td>\n",
       "      <td>-1</td>\n",
       "      <td>0</td>\n",
       "      <td>unknown</td>\n",
       "      <td>yes</td>\n",
       "    </tr>\n",
       "    <tr>\n",
       "      <th>4</th>\n",
       "      <td>54</td>\n",
       "      <td>admin.</td>\n",
       "      <td>married</td>\n",
       "      <td>tertiary</td>\n",
       "      <td>no</td>\n",
       "      <td>184</td>\n",
       "      <td>no</td>\n",
       "      <td>no</td>\n",
       "      <td>unknown</td>\n",
       "      <td>5</td>\n",
       "      <td>may</td>\n",
       "      <td>673</td>\n",
       "      <td>2</td>\n",
       "      <td>-1</td>\n",
       "      <td>0</td>\n",
       "      <td>unknown</td>\n",
       "      <td>yes</td>\n",
       "    </tr>\n",
       "  </tbody>\n",
       "</table>\n",
       "</div>"
      ],
      "text/plain": [
       "   age         job  marital  education   ...   pdays  previous poutcome deposit\n",
       "0   59      admin.  married  secondary   ...      -1         0  unknown     yes\n",
       "1   56      admin.  married  secondary   ...      -1         0  unknown     yes\n",
       "2   41  technician  married  secondary   ...      -1         0  unknown     yes\n",
       "3   55    services  married  secondary   ...      -1         0  unknown     yes\n",
       "4   54      admin.  married   tertiary   ...      -1         0  unknown     yes\n",
       "\n",
       "[5 rows x 17 columns]"
      ]
     },
     "execution_count": 3,
     "metadata": {},
     "output_type": "execute_result"
    }
   ],
   "source": [
    "df.head()"
   ]
  },
  {
   "cell_type": "markdown",
   "metadata": {
    "_uuid": "bf287fe95fb1b66e9356968471927ebadb5709a3"
   },
   "source": [
    "## Data Exploration"
   ]
  },
  {
   "cell_type": "markdown",
   "metadata": {
    "_uuid": "5b3c742e8301172bed5e08f19aebf847733b1804"
   },
   "source": [
    "After we imported the dataset, we have to look at the total number of rows in the dataset and analyze the number of missing values."
   ]
  },
  {
   "cell_type": "code",
   "execution_count": 4,
   "metadata": {
    "_uuid": "d2743db4357220306a9eac9702dd66689a58c761"
   },
   "outputs": [
    {
     "name": "stdout",
     "output_type": "stream",
     "text": [
      "Bank marketing dataset consists of 11162 rows.\n"
     ]
    }
   ],
   "source": [
    "# number of rows in dataset\n",
    "\n",
    "print(\"Bank marketing dataset consists of {rows} rows.\".format(rows = len(df)))"
   ]
  },
  {
   "cell_type": "code",
   "execution_count": 5,
   "metadata": {
    "_uuid": "09d1ee4ba165f08cd0bc71504ac494afc28c9a46"
   },
   "outputs": [
    {
     "data": {
      "text/plain": [
       "0.0"
      ]
     },
     "execution_count": 5,
     "metadata": {},
     "output_type": "execute_result"
    }
   ],
   "source": [
    "#find percentage of missing values for each column\n",
    "missing_values = df.isnull().mean()*100\n",
    "\n",
    "missing_values.sum()"
   ]
  },
  {
   "cell_type": "markdown",
   "metadata": {
    "_uuid": "9953cbc2a8e6fce30f123a482ec4cfb60ee5440b"
   },
   "source": [
    "So we see that there are no missing values."
   ]
  },
  {
   "cell_type": "markdown",
   "metadata": {
    "_uuid": "9439da6f9f0c817e948da870b401d6501a7e61e8"
   },
   "source": [
    "### Categorical columns exploration"
   ]
  },
  {
   "cell_type": "markdown",
   "metadata": {
    "_uuid": "70089e821d45ea593c562a833ee6989202be0583"
   },
   "source": [
    "In the dataset we have both categorical and numerical columns. Let's look at the values of categorical columns first."
   ]
  },
  {
   "cell_type": "code",
   "execution_count": 6,
   "metadata": {
    "_uuid": "1938266853e56fbb269f1d8a45c12786e3be18d9"
   },
   "outputs": [
    {
     "data": {
      "image/png": "[encoded data removed]",
      "text/plain": [
       "<Figure size 1440x1080 with 9 Axes>"
      ]
     },
     "metadata": {},
     "output_type": "display_data"
    }
   ],
   "source": [
    "cat_columns = ['job', 'marital', 'education', 'default', 'housing', 'loan', 'contact', 'month','poutcome']\n",
    "\n",
    "fig, axs = plt.subplots(3, 3, sharex=False, sharey=False, figsize=(20, 15))\n",
    "\n",
    "counter = 0\n",
    "for cat_column in cat_columns:\n",
    "    value_counts = df[cat_column].value_counts()\n",
    "    \n",
    "    trace_x = counter // 3\n",
    "    trace_y = counter % 3\n",
    "    x_pos = np.arange(0, len(value_counts))\n",
    "    \n",
    "    axs[trace_x, trace_y].bar(x_pos, value_counts.values, tick_label = value_counts.index)\n",
    "    \n",
    "    axs[trace_x, trace_y].set_title(cat_column)\n",
    "    \n",
    "    for tick in axs[trace_x, trace_y].get_xticklabels():\n",
    "        tick.set_rotation(90)\n",
    "    \n",
    "    counter += 1\n",
    "\n",
    "plt.show()"
   ]
  },
  {
   "cell_type": "markdown",
   "metadata": {
    "_uuid": "52e08f6727a73fc7ad9c4959ea16de52df98f6b4"
   },
   "source": [
    "### Numerical columns exploration"
   ]
  },
  {
   "cell_type": "markdown",
   "metadata": {
    "_uuid": "074b44ddc19e530e9a09e0bc4a252c18d906f539"
   },
   "source": [
    "Now let's look at the numerical columns' values. The most convenient way to look at the numerical values is plotting histograms."
   ]
  },
  {
   "cell_type": "code",
   "execution_count": 7,
   "metadata": {
    "_uuid": "4996808611a63346302571b98d824d05d863490e"
   },
   "outputs": [
    {
     "data": {
      "image/png": "[encoded data removed]",
      "text/plain": [
       "<Figure size 1440x1080 with 6 Axes>"
      ]
     },
     "metadata": {},
     "output_type": "display_data"
    }
   ],
   "source": [
    "num_columns = ['balance', 'day','duration', 'campaign', 'pdays', 'previous']\n",
    "\n",
    "fig, axs = plt.subplots(2, 3, sharex=False, sharey=False, figsize=(20, 15))\n",
    "\n",
    "counter = 0\n",
    "for num_column in num_columns:\n",
    "    \n",
    "    trace_x = counter // 3\n",
    "    trace_y = counter % 3\n",
    "    \n",
    "    axs[trace_x, trace_y].hist(df[num_column])\n",
    "    \n",
    "    axs[trace_x, trace_y].set_title(num_column)\n",
    "    \n",
    "    counter += 1\n",
    "\n",
    "plt.show()"
   ]
  },
  {
   "cell_type": "markdown",
   "metadata": {
    "_uuid": "8b9d668fc8f287bc0fd8745326f743cc97bf18bd"
   },
   "source": [
    "We can see that numerical columns have outliers (especially 'pdays', 'campaign' and 'previous' columns). Possibly there are incorrect values (noisy data), so we should look closer at the data and decide how do we manage the noise.\n",
    "<br> Let's look closer at the values of 'campaign', 'pdays' and 'previous' columns:"
   ]
  },
  {
   "cell_type": "code",
   "execution_count": 8,
   "metadata": {
    "_uuid": "bf3a266798fa38e8542790767f3b3de7ace40aa1"
   },
   "outputs": [
    {
     "data": {
      "text/html": [
       "<div>\n",
       "<style scoped>\n",
       "    .dataframe tbody tr th:only-of-type {\n",
       "        vertical-align: middle;\n",
       "    }\n",
       "\n",
       "    .dataframe tbody tr th {\n",
       "        vertical-align: top;\n",
       "    }\n",
       "\n",
       "    .dataframe thead th {\n",
       "        text-align: right;\n",
       "    }\n",
       "</style>\n",
       "<table border=\"1\" class=\"dataframe\">\n",
       "  <thead>\n",
       "    <tr style=\"text-align: right;\">\n",
       "      <th></th>\n",
       "      <th>pdays</th>\n",
       "      <th>campaign</th>\n",
       "      <th>previous</th>\n",
       "    </tr>\n",
       "  </thead>\n",
       "  <tbody>\n",
       "    <tr>\n",
       "      <th>count</th>\n",
       "      <td>11162.000000</td>\n",
       "      <td>11162.000000</td>\n",
       "      <td>11162.000000</td>\n",
       "    </tr>\n",
       "    <tr>\n",
       "      <th>mean</th>\n",
       "      <td>51.330407</td>\n",
       "      <td>2.508421</td>\n",
       "      <td>0.832557</td>\n",
       "    </tr>\n",
       "    <tr>\n",
       "      <th>std</th>\n",
       "      <td>108.758282</td>\n",
       "      <td>2.722077</td>\n",
       "      <td>2.292007</td>\n",
       "    </tr>\n",
       "    <tr>\n",
       "      <th>min</th>\n",
       "      <td>-1.000000</td>\n",
       "      <td>1.000000</td>\n",
       "      <td>0.000000</td>\n",
       "    </tr>\n",
       "    <tr>\n",
       "      <th>25%</th>\n",
       "      <td>-1.000000</td>\n",
       "      <td>1.000000</td>\n",
       "      <td>0.000000</td>\n",
       "    </tr>\n",
       "    <tr>\n",
       "      <th>50%</th>\n",
       "      <td>-1.000000</td>\n",
       "      <td>2.000000</td>\n",
       "      <td>0.000000</td>\n",
       "    </tr>\n",
       "    <tr>\n",
       "      <th>75%</th>\n",
       "      <td>20.750000</td>\n",
       "      <td>3.000000</td>\n",
       "      <td>1.000000</td>\n",
       "    </tr>\n",
       "    <tr>\n",
       "      <th>max</th>\n",
       "      <td>854.000000</td>\n",
       "      <td>63.000000</td>\n",
       "      <td>58.000000</td>\n",
       "    </tr>\n",
       "  </tbody>\n",
       "</table>\n",
       "</div>"
      ],
      "text/plain": [
       "              pdays      campaign      previous\n",
       "count  11162.000000  11162.000000  11162.000000\n",
       "mean      51.330407      2.508421      0.832557\n",
       "std      108.758282      2.722077      2.292007\n",
       "min       -1.000000      1.000000      0.000000\n",
       "25%       -1.000000      1.000000      0.000000\n",
       "50%       -1.000000      2.000000      0.000000\n",
       "75%       20.750000      3.000000      1.000000\n",
       "max      854.000000     63.000000     58.000000"
      ]
     },
     "execution_count": 8,
     "metadata": {},
     "output_type": "execute_result"
    }
   ],
   "source": [
    "df[['pdays', 'campaign', 'previous']].describe()"
   ]
  },
  {
   "cell_type": "markdown",
   "metadata": {
    "_uuid": "b18209f25f8f8beba8b0f8e5c5db759318a4b102"
   },
   "source": [
    "Percentage of 'pdays' values above 400:"
   ]
  },
  {
   "cell_type": "code",
   "execution_count": 9,
   "metadata": {
    "_uuid": "8db77b60bff2efa4960db6ff510e01642456cc4c"
   },
   "outputs": [
    {
     "data": {
      "text/plain": [
       "1.2005017022039062"
      ]
     },
     "execution_count": 9,
     "metadata": {},
     "output_type": "execute_result"
    }
   ],
   "source": [
    "len (df[df['pdays'] > 400] ) / len(df) * 100"
   ]
  },
  {
   "cell_type": "markdown",
   "metadata": {
    "_uuid": "a03f4e173db68ae35442d34c10905313d9e1c6a1"
   },
   "source": [
    "'pdays' holds the number of days that passed by after the client was last contacted from a previous campaign\n",
    "Looking closer into 'pdays' data we can see that:\n",
    "* only 1.2% of values above 400. They are possibly outliers, so we should consider imputing something (possibly mean value) instead of these values.\n",
    "* -1 possibly means that the client wasn't contacted before or stands for missing data.\n",
    "\n",
    "Since we are not sure exactly what -1 means I suggest to drop this column, because -1 makes more than 50% of the values of the column."
   ]
  },
  {
   "cell_type": "markdown",
   "metadata": {
    "_uuid": "3efa8cdcbe424cd936e1e764a0333ba4e2b08744"
   },
   "source": [
    "Percentage of 'campaign' values above 20:"
   ]
  },
  {
   "cell_type": "code",
   "execution_count": 10,
   "metadata": {
    "_uuid": "f3aabd2eed6cd14b5bb4d9de47519faf28f6557a"
   },
   "outputs": [
    {
     "data": {
      "text/plain": [
       "0.035835871707579285"
      ]
     },
     "execution_count": 10,
     "metadata": {},
     "output_type": "execute_result"
    }
   ],
   "source": [
    "len (df[df['campaign'] > 34] ) / len(df) * 100"
   ]
  },
  {
   "cell_type": "markdown",
   "metadata": {
    "_uuid": "0a5ac6bfde358fe53dcbaf13d61168824c6ce5a7"
   },
   "source": [
    "'campaign' holds the number of contacts performed during this campaign and for this client (numeric, includes last contact)\n",
    "Numbers for 'campaign' above 34 are clearly noise, so I suggest to impute them with average campaign values while data cleaning."
   ]
  },
  {
   "cell_type": "markdown",
   "metadata": {
    "_uuid": "d89667f07a89c9a3d4e02fcf60d8a273353c5a3e"
   },
   "source": [
    "Percentage of 'previous' values above 20:"
   ]
  },
  {
   "cell_type": "code",
   "execution_count": 11,
   "metadata": {
    "_uuid": "5d39f875c94eef6961b49826cec929d21c595f50"
   },
   "outputs": [
    {
     "data": {
      "text/plain": [
       "0.04479483963447411"
      ]
     },
     "execution_count": 11,
     "metadata": {},
     "output_type": "execute_result"
    }
   ],
   "source": [
    "len (df[df['previous'] > 34] ) / len(df) * 100"
   ]
  },
  {
   "cell_type": "markdown",
   "metadata": {
    "_uuid": "3bf6e16161dbb736ca2da4d3033d2201cff99b0e"
   },
   "source": [
    "'previous' holds the number of contacts performed before this campaign and for this client (numeric)\n",
    "Numbers for 'previous' above 34 are also really strange, so I suggest to impute them with average campaign values while data cleaning."
   ]
  },
  {
   "cell_type": "markdown",
   "metadata": {
    "_uuid": "23413f846914b7bc38a785f1ac4c6c5542d81712"
   },
   "source": [
    "### Analysis of the response column"
   ]
  },
  {
   "cell_type": "markdown",
   "metadata": {
    "_uuid": "aed4354ab2aa412a629185d495efd4d6fefb18ca"
   },
   "source": [
    "It is very important to look at the response column, which holds the information, which we are going to predict. In our case we should look at 'deposit' column and compare its values to other columns. \n",
    "<br> First of all we should look at the number of 'yes' and 'no' values in the response column 'deposit'."
   ]
  },
  {
   "cell_type": "code",
   "execution_count": 12,
   "metadata": {
    "_uuid": "63142d576f819e0250ed39d06a9e2c4c8eb67fa0"
   },
   "outputs": [
    {
     "data": {
      "text/plain": [
       "<matplotlib.axes._subplots.AxesSubplot at 0x7f30d70a1b38>"
      ]
     },
     "execution_count": 12,
     "metadata": {},
     "output_type": "execute_result"
    },
    {
     "data": {
      "image/png": "[encoded data removed]",
      "text/plain": [
       "<Figure size 432x288 with 1 Axes>"
      ]
     },
     "metadata": {},
     "output_type": "display_data"
    }
   ],
   "source": [
    "value_counts = df['deposit'].value_counts()\n",
    "\n",
    "value_counts.plot.bar(title = 'Deposit value counts')"
   ]
  },
  {
   "cell_type": "markdown",
   "metadata": {
    "_uuid": "7f84c8aaa1e3f46292f6c148840d7a0f2fb5fd8d"
   },
   "source": [
    "On the diagram we see that counts for 'yes' and 'no' values for 'deposit' are close, so we can use accuracy as a metric for a model, which predicts the campaign outcome."
   ]
  },
  {
   "cell_type": "markdown",
   "metadata": {
    "_uuid": "bf10cca9bb8132ba04f9443a8e89f436284d33d0"
   },
   "source": [
    "Let's see how 'deposit' column value varies depending on other categorical columns' values:"
   ]
  },
  {
   "cell_type": "code",
   "execution_count": 13,
   "metadata": {
    "_uuid": "fd37526354b859d2ff3a82e733866950842b9a39"
   },
   "outputs": [
    {
     "data": {
      "text/plain": [
       "<matplotlib.axes._subplots.AxesSubplot at 0x7f30d6f16eb8>"
      ]
     },
     "execution_count": 13,
     "metadata": {},
     "output_type": "execute_result"
    },
    {
     "data": {
      "image/png": "[encoded data removed]",
      "text/plain": [
       "<Figure size 432x288 with 1 Axes>"
      ]
     },
     "metadata": {},
     "output_type": "display_data"
    }
   ],
   "source": [
    "#job and deposit\n",
    "j_df = pd.DataFrame()\n",
    "\n",
    "j_df['yes'] = df[df['deposit'] == 'yes']['job'].value_counts()\n",
    "j_df['no'] = df[df['deposit'] == 'no']['job'].value_counts()\n",
    "\n",
    "j_df.plot.bar(title = 'Job and deposit')"
   ]
  },
  {
   "cell_type": "code",
   "execution_count": 14,
   "metadata": {
    "_uuid": "fcbfe84749f96ab892485f74df1d3a1420c1fea9"
   },
   "outputs": [
    {
     "data": {
      "text/plain": [
       "<matplotlib.axes._subplots.AxesSubplot at 0x7f30d6fb42e8>"
      ]
     },
     "execution_count": 14,
     "metadata": {},
     "output_type": "execute_result"
    },
    {
     "data": {
      "image/png": "[encoded data removed]",
      "text/plain": [
       "<Figure size 432x288 with 1 Axes>"
      ]
     },
     "metadata": {},
     "output_type": "display_data"
    }
   ],
   "source": [
    "#marital status and deposit\n",
    "j_df = pd.DataFrame()\n",
    "\n",
    "j_df['yes'] = df[df['deposit'] == 'yes']['marital'].value_counts()\n",
    "j_df['no'] = df[df['deposit'] == 'no']['marital'].value_counts()\n",
    "\n",
    "j_df.plot.bar(title = 'Marital status and deposit')"
   ]
  },
  {
   "cell_type": "code",
   "execution_count": 15,
   "metadata": {
    "_uuid": "41865164c1c1cebe2eba5dcdfd774d028ef80606"
   },
   "outputs": [
    {
     "data": {
      "text/plain": [
       "<matplotlib.axes._subplots.AxesSubplot at 0x7f30d6db39e8>"
      ]
     },
     "execution_count": 15,
     "metadata": {},
     "output_type": "execute_result"
    },
    {
     "data": {
      "image/png": "[encoded data removed]",
      "text/plain": [
       "<Figure size 432x288 with 1 Axes>"
      ]
     },
     "metadata": {},
     "output_type": "display_data"
    }
   ],
   "source": [
    "#education and deposit\n",
    "j_df = pd.DataFrame()\n",
    "\n",
    "j_df['yes'] = df[df['deposit'] == 'yes']['education'].value_counts()\n",
    "j_df['no'] = df[df['deposit'] == 'no']['education'].value_counts()\n",
    "\n",
    "j_df.plot.bar(title = 'Education and deposit')"
   ]
  },
  {
   "cell_type": "code",
   "execution_count": 16,
   "metadata": {
    "_uuid": "1418d58637ea1ea831d2b17fd2de74679a92d0cc"
   },
   "outputs": [
    {
     "data": {
      "text/plain": [
       "<matplotlib.axes._subplots.AxesSubplot at 0x7f30d6d2e198>"
      ]
     },
     "execution_count": 16,
     "metadata": {},
     "output_type": "execute_result"
    },
    {
     "data": {
      "image/png": "[encoded data removed]",
      "text/plain": [
       "<Figure size 432x288 with 1 Axes>"
      ]
     },
     "metadata": {},
     "output_type": "display_data"
    }
   ],
   "source": [
    "#type of contact and deposit\n",
    "j_df = pd.DataFrame()\n",
    "\n",
    "j_df['yes'] = df[df['deposit'] == 'yes']['contact'].value_counts()\n",
    "j_df['no'] = df[df['deposit'] == 'no']['contact'].value_counts()\n",
    "\n",
    "j_df.plot.bar(title = 'Type of contact and deposit')"
   ]
  },
  {
   "cell_type": "markdown",
   "metadata": {
    "_uuid": "ce7acc045351b74bfb2bc283a30ae5d13bce4556"
   },
   "source": [
    "Regarding the diagrams we can tell that according to our dataset:\n",
    "1. Customers with 'blue-collar' and 'services' jobs are less likely to subscribe for term deposit.\n",
    "2. Married customers are less likely to subscribe for term deposit.\n",
    "3. Customers with 'cellular' type of contact are less likely to subscribe for term deposit."
   ]
  },
  {
   "cell_type": "markdown",
   "metadata": {
    "_uuid": "351b2a7d2ff6af767b61c0cb478fac05010b23ce"
   },
   "source": [
    "Now let's look how numerical columns affect term deposit subscription."
   ]
  },
  {
   "cell_type": "code",
   "execution_count": 17,
   "metadata": {
    "_uuid": "85f440e31a4735c92235c12b07dae34a61719076"
   },
   "outputs": [
    {
     "data": {
      "text/html": [
       "<div>\n",
       "<style scoped>\n",
       "    .dataframe tbody tr th:only-of-type {\n",
       "        vertical-align: middle;\n",
       "    }\n",
       "\n",
       "    .dataframe tbody tr th {\n",
       "        vertical-align: top;\n",
       "    }\n",
       "\n",
       "    .dataframe thead th {\n",
       "        text-align: right;\n",
       "    }\n",
       "</style>\n",
       "<table border=\"1\" class=\"dataframe\">\n",
       "  <thead>\n",
       "    <tr style=\"text-align: right;\">\n",
       "      <th></th>\n",
       "      <th>balance_yes</th>\n",
       "      <th>balance_no</th>\n",
       "    </tr>\n",
       "  </thead>\n",
       "  <tbody>\n",
       "    <tr>\n",
       "      <th>count</th>\n",
       "      <td>5289.000000</td>\n",
       "      <td>5873.000000</td>\n",
       "    </tr>\n",
       "    <tr>\n",
       "      <th>mean</th>\n",
       "      <td>1804.267915</td>\n",
       "      <td>1280.227141</td>\n",
       "    </tr>\n",
       "    <tr>\n",
       "      <th>std</th>\n",
       "      <td>3501.104777</td>\n",
       "      <td>2933.411934</td>\n",
       "    </tr>\n",
       "    <tr>\n",
       "      <th>min</th>\n",
       "      <td>-3058.000000</td>\n",
       "      <td>-6847.000000</td>\n",
       "    </tr>\n",
       "    <tr>\n",
       "      <th>25%</th>\n",
       "      <td>210.000000</td>\n",
       "      <td>64.000000</td>\n",
       "    </tr>\n",
       "    <tr>\n",
       "      <th>50%</th>\n",
       "      <td>733.000000</td>\n",
       "      <td>414.000000</td>\n",
       "    </tr>\n",
       "    <tr>\n",
       "      <th>75%</th>\n",
       "      <td>2159.000000</td>\n",
       "      <td>1324.000000</td>\n",
       "    </tr>\n",
       "    <tr>\n",
       "      <th>max</th>\n",
       "      <td>81204.000000</td>\n",
       "      <td>66653.000000</td>\n",
       "    </tr>\n",
       "  </tbody>\n",
       "</table>\n",
       "</div>"
      ],
      "text/plain": [
       "        balance_yes    balance_no\n",
       "count   5289.000000   5873.000000\n",
       "mean    1804.267915   1280.227141\n",
       "std     3501.104777   2933.411934\n",
       "min    -3058.000000  -6847.000000\n",
       "25%      210.000000     64.000000\n",
       "50%      733.000000    414.000000\n",
       "75%     2159.000000   1324.000000\n",
       "max    81204.000000  66653.000000"
      ]
     },
     "execution_count": 17,
     "metadata": {},
     "output_type": "execute_result"
    }
   ],
   "source": [
    "#balance and deposit\n",
    "\n",
    "b_df = pd.DataFrame()\n",
    "b_df['balance_yes'] = (df[df['deposit'] == 'yes'][['deposit','balance']].describe())['balance']\n",
    "b_df['balance_no'] = (df[df['deposit'] == 'no'][['deposit','balance']].describe())['balance']\n",
    "\n",
    "b_df"
   ]
  },
  {
   "cell_type": "code",
   "execution_count": 18,
   "metadata": {
    "_uuid": "4fdfb640e72e4b6f6cbff055b2d3d35e2053fa3b"
   },
   "outputs": [
    {
     "data": {
      "text/plain": [
       "<matplotlib.axes._subplots.AxesSubplot at 0x7f30d6cfba58>"
      ]
     },
     "execution_count": 18,
     "metadata": {},
     "output_type": "execute_result"
    },
    {
     "data": {
      "image/png": "[encoded data removed]",
      "text/plain": [
       "<Figure size 432x288 with 1 Axes>"
      ]
     },
     "metadata": {},
     "output_type": "display_data"
    }
   ],
   "source": [
    "b_df.drop(['count', '25%', '50%', '75%']).plot.bar(title = 'Balance and deposit statistics')"
   ]
  },
  {
   "cell_type": "code",
   "execution_count": 19,
   "metadata": {
    "_uuid": "054bf8c7aca1045516d9085f3c3764af142f4741"
   },
   "outputs": [
    {
     "data": {
      "text/html": [
       "<div>\n",
       "<style scoped>\n",
       "    .dataframe tbody tr th:only-of-type {\n",
       "        vertical-align: middle;\n",
       "    }\n",
       "\n",
       "    .dataframe tbody tr th {\n",
       "        vertical-align: top;\n",
       "    }\n",
       "\n",
       "    .dataframe thead th {\n",
       "        text-align: right;\n",
       "    }\n",
       "</style>\n",
       "<table border=\"1\" class=\"dataframe\">\n",
       "  <thead>\n",
       "    <tr style=\"text-align: right;\">\n",
       "      <th></th>\n",
       "      <th>age_yes</th>\n",
       "      <th>age_no</th>\n",
       "    </tr>\n",
       "  </thead>\n",
       "  <tbody>\n",
       "    <tr>\n",
       "      <th>count</th>\n",
       "      <td>5289.000000</td>\n",
       "      <td>5873.000000</td>\n",
       "    </tr>\n",
       "    <tr>\n",
       "      <th>mean</th>\n",
       "      <td>41.670070</td>\n",
       "      <td>40.837391</td>\n",
       "    </tr>\n",
       "    <tr>\n",
       "      <th>std</th>\n",
       "      <td>13.497781</td>\n",
       "      <td>10.264815</td>\n",
       "    </tr>\n",
       "    <tr>\n",
       "      <th>min</th>\n",
       "      <td>18.000000</td>\n",
       "      <td>18.000000</td>\n",
       "    </tr>\n",
       "    <tr>\n",
       "      <th>25%</th>\n",
       "      <td>31.000000</td>\n",
       "      <td>33.000000</td>\n",
       "    </tr>\n",
       "    <tr>\n",
       "      <th>50%</th>\n",
       "      <td>38.000000</td>\n",
       "      <td>39.000000</td>\n",
       "    </tr>\n",
       "    <tr>\n",
       "      <th>75%</th>\n",
       "      <td>50.000000</td>\n",
       "      <td>48.000000</td>\n",
       "    </tr>\n",
       "    <tr>\n",
       "      <th>max</th>\n",
       "      <td>95.000000</td>\n",
       "      <td>89.000000</td>\n",
       "    </tr>\n",
       "  </tbody>\n",
       "</table>\n",
       "</div>"
      ],
      "text/plain": [
       "           age_yes       age_no\n",
       "count  5289.000000  5873.000000\n",
       "mean     41.670070    40.837391\n",
       "std      13.497781    10.264815\n",
       "min      18.000000    18.000000\n",
       "25%      31.000000    33.000000\n",
       "50%      38.000000    39.000000\n",
       "75%      50.000000    48.000000\n",
       "max      95.000000    89.000000"
      ]
     },
     "execution_count": 19,
     "metadata": {},
     "output_type": "execute_result"
    }
   ],
   "source": [
    "#age and deposit\n",
    "\n",
    "a_df = pd.DataFrame()\n",
    "a_df['age_yes'] = (df[df['deposit'] == 'yes'][['deposit','age']].describe())['age']\n",
    "a_df['age_no'] = (df[df['deposit'] == 'no'][['deposit','age']].describe())['age']\n",
    "\n",
    "a_df"
   ]
  },
  {
   "cell_type": "code",
   "execution_count": 20,
   "metadata": {
    "_uuid": "5debbbf91c62df70f679046abb1a6ad2e362a21a"
   },
   "outputs": [
    {
     "data": {
      "text/plain": [
       "<matplotlib.axes._subplots.AxesSubplot at 0x7f30d6c6c4a8>"
      ]
     },
     "execution_count": 20,
     "metadata": {},
     "output_type": "execute_result"
    },
    {
     "data": {
      "image/png": "[encoded data removed]",
      "text/plain": [
       "<Figure size 432x288 with 1 Axes>"
      ]
     },
     "metadata": {},
     "output_type": "display_data"
    }
   ],
   "source": [
    "a_df.drop(['count', '25%', '50%', '75%']).plot.bar(title = 'Age and deposit statistics')"
   ]
  },
  {
   "cell_type": "code",
   "execution_count": 21,
   "metadata": {
    "_uuid": "df7570d6ef520da585b0294cb4056f4f53aa8675"
   },
   "outputs": [
    {
     "data": {
      "text/html": [
       "<div>\n",
       "<style scoped>\n",
       "    .dataframe tbody tr th:only-of-type {\n",
       "        vertical-align: middle;\n",
       "    }\n",
       "\n",
       "    .dataframe tbody tr th {\n",
       "        vertical-align: top;\n",
       "    }\n",
       "\n",
       "    .dataframe thead th {\n",
       "        text-align: right;\n",
       "    }\n",
       "</style>\n",
       "<table border=\"1\" class=\"dataframe\">\n",
       "  <thead>\n",
       "    <tr style=\"text-align: right;\">\n",
       "      <th></th>\n",
       "      <th>campaign_yes</th>\n",
       "      <th>campaign_no</th>\n",
       "    </tr>\n",
       "  </thead>\n",
       "  <tbody>\n",
       "    <tr>\n",
       "      <th>count</th>\n",
       "      <td>5289.000000</td>\n",
       "      <td>5873.000000</td>\n",
       "    </tr>\n",
       "    <tr>\n",
       "      <th>mean</th>\n",
       "      <td>2.141047</td>\n",
       "      <td>2.839264</td>\n",
       "    </tr>\n",
       "    <tr>\n",
       "      <th>std</th>\n",
       "      <td>1.921826</td>\n",
       "      <td>3.244474</td>\n",
       "    </tr>\n",
       "    <tr>\n",
       "      <th>min</th>\n",
       "      <td>1.000000</td>\n",
       "      <td>1.000000</td>\n",
       "    </tr>\n",
       "    <tr>\n",
       "      <th>25%</th>\n",
       "      <td>1.000000</td>\n",
       "      <td>1.000000</td>\n",
       "    </tr>\n",
       "    <tr>\n",
       "      <th>50%</th>\n",
       "      <td>2.000000</td>\n",
       "      <td>2.000000</td>\n",
       "    </tr>\n",
       "    <tr>\n",
       "      <th>75%</th>\n",
       "      <td>3.000000</td>\n",
       "      <td>3.000000</td>\n",
       "    </tr>\n",
       "    <tr>\n",
       "      <th>max</th>\n",
       "      <td>32.000000</td>\n",
       "      <td>63.000000</td>\n",
       "    </tr>\n",
       "  </tbody>\n",
       "</table>\n",
       "</div>"
      ],
      "text/plain": [
       "       campaign_yes  campaign_no\n",
       "count   5289.000000  5873.000000\n",
       "mean       2.141047     2.839264\n",
       "std        1.921826     3.244474\n",
       "min        1.000000     1.000000\n",
       "25%        1.000000     1.000000\n",
       "50%        2.000000     2.000000\n",
       "75%        3.000000     3.000000\n",
       "max       32.000000    63.000000"
      ]
     },
     "execution_count": 21,
     "metadata": {},
     "output_type": "execute_result"
    }
   ],
   "source": [
    "#number of contacts performed during this campaign ('campaign') and deposit\n",
    "c_df = pd.DataFrame()\n",
    "c_df['campaign_yes'] = (df[df['deposit'] == 'yes'][['deposit','campaign']].describe())['campaign']\n",
    "c_df['campaign_no'] = (df[df['deposit'] == 'no'][['deposit','campaign']].describe())['campaign']\n",
    "\n",
    "c_df"
   ]
  },
  {
   "cell_type": "code",
   "execution_count": 22,
   "metadata": {
    "_uuid": "b78ced3e2abae5fa673a9d5c2f94f234cbe3e8af"
   },
   "outputs": [
    {
     "data": {
      "text/plain": [
       "<matplotlib.axes._subplots.AxesSubplot at 0x7f30d6c5dd68>"
      ]
     },
     "execution_count": 22,
     "metadata": {},
     "output_type": "execute_result"
    },
    {
     "data": {
      "image/png": "[encoded data removed]",
      "text/plain": [
       "<Figure size 432x288 with 1 Axes>"
      ]
     },
     "metadata": {},
     "output_type": "display_data"
    }
   ],
   "source": [
    "c_df.drop(['count', '25%', '50%', '75%']).plot.bar(title = 'Number of contacts performed during this campaign and deposit statistics')"
   ]
  },
  {
   "cell_type": "code",
   "execution_count": 23,
   "metadata": {
    "_uuid": "8319de98e398300a9464664dc204e060b03fbb71"
   },
   "outputs": [
    {
     "data": {
      "text/html": [
       "<div>\n",
       "<style scoped>\n",
       "    .dataframe tbody tr th:only-of-type {\n",
       "        vertical-align: middle;\n",
       "    }\n",
       "\n",
       "    .dataframe tbody tr th {\n",
       "        vertical-align: top;\n",
       "    }\n",
       "\n",
       "    .dataframe thead th {\n",
       "        text-align: right;\n",
       "    }\n",
       "</style>\n",
       "<table border=\"1\" class=\"dataframe\">\n",
       "  <thead>\n",
       "    <tr style=\"text-align: right;\">\n",
       "      <th></th>\n",
       "      <th>previous_yes</th>\n",
       "      <th>previous_no</th>\n",
       "    </tr>\n",
       "  </thead>\n",
       "  <tbody>\n",
       "    <tr>\n",
       "      <th>count</th>\n",
       "      <td>5289.000000</td>\n",
       "      <td>5873.00000</td>\n",
       "    </tr>\n",
       "    <tr>\n",
       "      <th>mean</th>\n",
       "      <td>1.170354</td>\n",
       "      <td>0.52835</td>\n",
       "    </tr>\n",
       "    <tr>\n",
       "      <th>std</th>\n",
       "      <td>2.553272</td>\n",
       "      <td>1.97961</td>\n",
       "    </tr>\n",
       "    <tr>\n",
       "      <th>min</th>\n",
       "      <td>0.000000</td>\n",
       "      <td>0.00000</td>\n",
       "    </tr>\n",
       "    <tr>\n",
       "      <th>25%</th>\n",
       "      <td>0.000000</td>\n",
       "      <td>0.00000</td>\n",
       "    </tr>\n",
       "    <tr>\n",
       "      <th>50%</th>\n",
       "      <td>0.000000</td>\n",
       "      <td>0.00000</td>\n",
       "    </tr>\n",
       "    <tr>\n",
       "      <th>75%</th>\n",
       "      <td>1.000000</td>\n",
       "      <td>0.00000</td>\n",
       "    </tr>\n",
       "    <tr>\n",
       "      <th>max</th>\n",
       "      <td>58.000000</td>\n",
       "      <td>41.00000</td>\n",
       "    </tr>\n",
       "  </tbody>\n",
       "</table>\n",
       "</div>"
      ],
      "text/plain": [
       "       previous_yes  previous_no\n",
       "count   5289.000000   5873.00000\n",
       "mean       1.170354      0.52835\n",
       "std        2.553272      1.97961\n",
       "min        0.000000      0.00000\n",
       "25%        0.000000      0.00000\n",
       "50%        0.000000      0.00000\n",
       "75%        1.000000      0.00000\n",
       "max       58.000000     41.00000"
      ]
     },
     "execution_count": 23,
     "metadata": {},
     "output_type": "execute_result"
    }
   ],
   "source": [
    "#number of contacts performed during previous campaign ('previous') and deposit\n",
    "p_df = pd.DataFrame()\n",
    "p_df['previous_yes'] = (df[df['deposit'] == 'yes'][['deposit','previous']].describe())['previous']\n",
    "p_df['previous_no'] = (df[df['deposit'] == 'no'][['deposit','previous']].describe())['previous']\n",
    "\n",
    "p_df"
   ]
  },
  {
   "cell_type": "code",
   "execution_count": 24,
   "metadata": {
    "_uuid": "b3575d7c7ab57d09be0b299648d2c6458858828d"
   },
   "outputs": [
    {
     "data": {
      "text/plain": [
       "<matplotlib.axes._subplots.AxesSubplot at 0x7f30d2e59978>"
      ]
     },
     "execution_count": 24,
     "metadata": {},
     "output_type": "execute_result"
    },
    {
     "data": {
      "image/png": "[encoded data removed]",
      "text/plain": [
       "<Figure size 432x288 with 1 Axes>"
      ]
     },
     "metadata": {},
     "output_type": "display_data"
    }
   ],
   "source": [
    "p_df.drop(['count', '25%', '50%', '75%']).plot.bar(title = 'Number of contacts performed during previous campaign and deposit statistics')"
   ]
  },
  {
   "cell_type": "markdown",
   "metadata": {
    "_uuid": "596c9e08761d5777b2b874c4d2d9b28b47232d54"
   },
   "source": [
    "Looking at the diagrams above we can conclude that:\n",
    "1. People who subscribed for term deposit tend to have greater balance and age values.\n",
    "2. People who subscribed for term deposit tend to have fewer number of contacts during this campaign."
   ]
  },
  {
   "cell_type": "markdown",
   "metadata": {
    "_uuid": "657dfa956c6703fb3c1b404ffbb01884a33994af"
   },
   "source": [
    "## Data Cleaning"
   ]
  },
  {
   "cell_type": "markdown",
   "metadata": {
    "_uuid": "da23d974653a9c7dfbd887ab2dc20e7e97eb01d0"
   },
   "source": [
    "Before we will be able to apply machine learning techniques, we should prepare the dataset for processing:\n",
    "1. Convert columns with 'yes' and 'no' values to boolean columns;\n",
    "2. Convert categorical columns into dummy variables."
   ]
  },
  {
   "cell_type": "code",
   "execution_count": 25,
   "metadata": {
    "_uuid": "c36ceee61029e8698e08b76fe2204b7e9c0284f5"
   },
   "outputs": [],
   "source": [
    "def get_dummy_from_bool(row, column_name):\n",
    "    ''' Returns 0 if value in column_name is no, returns 1 if value in column_name is yes'''\n",
    "    return 1 if row[column_name] == 'yes' else 0\n",
    "\n",
    "def get_correct_values(row, column_name, threshold, df):\n",
    "    ''' Returns mean value if value in column_name is above threshold'''\n",
    "    if row[column_name] <= threshold:\n",
    "        return row[column_name]\n",
    "    else:\n",
    "        mean = df[df[column_name] <= threshold][column_name].mean()\n",
    "        return mean\n",
    "\n",
    "def clean_data(df):\n",
    "    '''\n",
    "    INPUT\n",
    "    df - pandas dataframe containing bank marketing campaign dataset\n",
    "    \n",
    "    OUTPUT\n",
    "    df - cleaned dataset:\n",
    "    1. columns with 'yes' and 'no' values are converted into boolean variables;\n",
    "    2. categorical columns are converted into dummy variables;\n",
    "    3. drop irrelevant columns.\n",
    "    4. impute incorrect values\n",
    "    '''\n",
    "    \n",
    "    cleaned_df = df.copy()\n",
    "    \n",
    "    #convert columns containing 'yes' and 'no' values to boolean variables and drop original columns\n",
    "    bool_columns = ['default', 'housing', 'loan', 'deposit']\n",
    "    for bool_col in bool_columns:\n",
    "        cleaned_df[bool_col + '_bool'] = df.apply(lambda row: get_dummy_from_bool(row, bool_col),axis=1)\n",
    "    \n",
    "    cleaned_df = cleaned_df.drop(columns = bool_columns)\n",
    "    \n",
    "    #convert categorical columns to dummies\n",
    "    cat_columns = ['job', 'marital', 'education', 'contact', 'month', 'poutcome']\n",
    "    \n",
    "    for col in  cat_columns:\n",
    "        cleaned_df = pd.concat([cleaned_df.drop(col, axis=1),\n",
    "                                pd.get_dummies(cleaned_df[col], prefix=col, prefix_sep='_',\n",
    "                                               drop_first=True, dummy_na=False)], axis=1)\n",
    "    \n",
    "    #drop irrelevant columns\n",
    "    cleaned_df = cleaned_df.drop(columns = ['pdays'])\n",
    "    \n",
    "    #impute incorrect values and drop original columns\n",
    "    cleaned_df['campaign_cleaned'] = df.apply(lambda row: get_correct_values(row, 'campaign', 34, cleaned_df),axis=1)\n",
    "    cleaned_df['previous_cleaned'] = df.apply(lambda row: get_correct_values(row, 'previous', 34, cleaned_df),axis=1)\n",
    "    \n",
    "    cleaned_df = cleaned_df.drop(columns = ['campaign', 'previous'])\n",
    "    \n",
    "    return cleaned_df"
   ]
  },
  {
   "cell_type": "code",
   "execution_count": 26,
   "metadata": {
    "_uuid": "c84260944095766b196e084185bb07c451162524"
   },
   "outputs": [
    {
     "data": {
      "text/html": [
       "<div>\n",
       "<style scoped>\n",
       "    .dataframe tbody tr th:only-of-type {\n",
       "        vertical-align: middle;\n",
       "    }\n",
       "\n",
       "    .dataframe tbody tr th {\n",
       "        vertical-align: top;\n",
       "    }\n",
       "\n",
       "    .dataframe thead th {\n",
       "        text-align: right;\n",
       "    }\n",
       "</style>\n",
       "<table border=\"1\" class=\"dataframe\">\n",
       "  <thead>\n",
       "    <tr style=\"text-align: right;\">\n",
       "      <th></th>\n",
       "      <th>age</th>\n",
       "      <th>balance</th>\n",
       "      <th>day</th>\n",
       "      <th>duration</th>\n",
       "      <th>default_bool</th>\n",
       "      <th>housing_bool</th>\n",
       "      <th>loan_bool</th>\n",
       "      <th>deposit_bool</th>\n",
       "      <th>job_blue-collar</th>\n",
       "      <th>job_entrepreneur</th>\n",
       "      <th>job_housemaid</th>\n",
       "      <th>job_management</th>\n",
       "      <th>job_retired</th>\n",
       "      <th>job_self-employed</th>\n",
       "      <th>job_services</th>\n",
       "      <th>job_student</th>\n",
       "      <th>job_technician</th>\n",
       "      <th>job_unemployed</th>\n",
       "      <th>job_unknown</th>\n",
       "      <th>marital_married</th>\n",
       "      <th>marital_single</th>\n",
       "      <th>education_secondary</th>\n",
       "      <th>education_tertiary</th>\n",
       "      <th>education_unknown</th>\n",
       "      <th>contact_telephone</th>\n",
       "      <th>contact_unknown</th>\n",
       "      <th>month_aug</th>\n",
       "      <th>month_dec</th>\n",
       "      <th>month_feb</th>\n",
       "      <th>month_jan</th>\n",
       "      <th>month_jul</th>\n",
       "      <th>month_jun</th>\n",
       "      <th>month_mar</th>\n",
       "      <th>month_may</th>\n",
       "      <th>month_nov</th>\n",
       "      <th>month_oct</th>\n",
       "      <th>month_sep</th>\n",
       "      <th>poutcome_other</th>\n",
       "      <th>poutcome_success</th>\n",
       "      <th>poutcome_unknown</th>\n",
       "      <th>campaign_cleaned</th>\n",
       "      <th>previous_cleaned</th>\n",
       "    </tr>\n",
       "  </thead>\n",
       "  <tbody>\n",
       "    <tr>\n",
       "      <th>0</th>\n",
       "      <td>59</td>\n",
       "      <td>2343</td>\n",
       "      <td>5</td>\n",
       "      <td>1042</td>\n",
       "      <td>0</td>\n",
       "      <td>1</td>\n",
       "      <td>0</td>\n",
       "      <td>1</td>\n",
       "      <td>0</td>\n",
       "      <td>0</td>\n",
       "      <td>0</td>\n",
       "      <td>0</td>\n",
       "      <td>0</td>\n",
       "      <td>0</td>\n",
       "      <td>0</td>\n",
       "      <td>0</td>\n",
       "      <td>0</td>\n",
       "      <td>0</td>\n",
       "      <td>0</td>\n",
       "      <td>1</td>\n",
       "      <td>0</td>\n",
       "      <td>1</td>\n",
       "      <td>0</td>\n",
       "      <td>0</td>\n",
       "      <td>0</td>\n",
       "      <td>1</td>\n",
       "      <td>0</td>\n",
       "      <td>0</td>\n",
       "      <td>0</td>\n",
       "      <td>0</td>\n",
       "      <td>0</td>\n",
       "      <td>0</td>\n",
       "      <td>0</td>\n",
       "      <td>1</td>\n",
       "      <td>0</td>\n",
       "      <td>0</td>\n",
       "      <td>0</td>\n",
       "      <td>0</td>\n",
       "      <td>0</td>\n",
       "      <td>1</td>\n",
       "      <td>1.0</td>\n",
       "      <td>0.0</td>\n",
       "    </tr>\n",
       "    <tr>\n",
       "      <th>1</th>\n",
       "      <td>56</td>\n",
       "      <td>45</td>\n",
       "      <td>5</td>\n",
       "      <td>1467</td>\n",
       "      <td>0</td>\n",
       "      <td>0</td>\n",
       "      <td>0</td>\n",
       "      <td>1</td>\n",
       "      <td>0</td>\n",
       "      <td>0</td>\n",
       "      <td>0</td>\n",
       "      <td>0</td>\n",
       "      <td>0</td>\n",
       "      <td>0</td>\n",
       "      <td>0</td>\n",
       "      <td>0</td>\n",
       "      <td>0</td>\n",
       "      <td>0</td>\n",
       "      <td>0</td>\n",
       "      <td>1</td>\n",
       "      <td>0</td>\n",
       "      <td>1</td>\n",
       "      <td>0</td>\n",
       "      <td>0</td>\n",
       "      <td>0</td>\n",
       "      <td>1</td>\n",
       "      <td>0</td>\n",
       "      <td>0</td>\n",
       "      <td>0</td>\n",
       "      <td>0</td>\n",
       "      <td>0</td>\n",
       "      <td>0</td>\n",
       "      <td>0</td>\n",
       "      <td>1</td>\n",
       "      <td>0</td>\n",
       "      <td>0</td>\n",
       "      <td>0</td>\n",
       "      <td>0</td>\n",
       "      <td>0</td>\n",
       "      <td>1</td>\n",
       "      <td>1.0</td>\n",
       "      <td>0.0</td>\n",
       "    </tr>\n",
       "    <tr>\n",
       "      <th>2</th>\n",
       "      <td>41</td>\n",
       "      <td>1270</td>\n",
       "      <td>5</td>\n",
       "      <td>1389</td>\n",
       "      <td>0</td>\n",
       "      <td>1</td>\n",
       "      <td>0</td>\n",
       "      <td>1</td>\n",
       "      <td>0</td>\n",
       "      <td>0</td>\n",
       "      <td>0</td>\n",
       "      <td>0</td>\n",
       "      <td>0</td>\n",
       "      <td>0</td>\n",
       "      <td>0</td>\n",
       "      <td>0</td>\n",
       "      <td>1</td>\n",
       "      <td>0</td>\n",
       "      <td>0</td>\n",
       "      <td>1</td>\n",
       "      <td>0</td>\n",
       "      <td>1</td>\n",
       "      <td>0</td>\n",
       "      <td>0</td>\n",
       "      <td>0</td>\n",
       "      <td>1</td>\n",
       "      <td>0</td>\n",
       "      <td>0</td>\n",
       "      <td>0</td>\n",
       "      <td>0</td>\n",
       "      <td>0</td>\n",
       "      <td>0</td>\n",
       "      <td>0</td>\n",
       "      <td>1</td>\n",
       "      <td>0</td>\n",
       "      <td>0</td>\n",
       "      <td>0</td>\n",
       "      <td>0</td>\n",
       "      <td>0</td>\n",
       "      <td>1</td>\n",
       "      <td>1.0</td>\n",
       "      <td>0.0</td>\n",
       "    </tr>\n",
       "    <tr>\n",
       "      <th>3</th>\n",
       "      <td>55</td>\n",
       "      <td>2476</td>\n",
       "      <td>5</td>\n",
       "      <td>579</td>\n",
       "      <td>0</td>\n",
       "      <td>1</td>\n",
       "      <td>0</td>\n",
       "      <td>1</td>\n",
       "      <td>0</td>\n",
       "      <td>0</td>\n",
       "      <td>0</td>\n",
       "      <td>0</td>\n",
       "      <td>0</td>\n",
       "      <td>0</td>\n",
       "      <td>1</td>\n",
       "      <td>0</td>\n",
       "      <td>0</td>\n",
       "      <td>0</td>\n",
       "      <td>0</td>\n",
       "      <td>1</td>\n",
       "      <td>0</td>\n",
       "      <td>1</td>\n",
       "      <td>0</td>\n",
       "      <td>0</td>\n",
       "      <td>0</td>\n",
       "      <td>1</td>\n",
       "      <td>0</td>\n",
       "      <td>0</td>\n",
       "      <td>0</td>\n",
       "      <td>0</td>\n",
       "      <td>0</td>\n",
       "      <td>0</td>\n",
       "      <td>0</td>\n",
       "      <td>1</td>\n",
       "      <td>0</td>\n",
       "      <td>0</td>\n",
       "      <td>0</td>\n",
       "      <td>0</td>\n",
       "      <td>0</td>\n",
       "      <td>1</td>\n",
       "      <td>1.0</td>\n",
       "      <td>0.0</td>\n",
       "    </tr>\n",
       "    <tr>\n",
       "      <th>4</th>\n",
       "      <td>54</td>\n",
       "      <td>184</td>\n",
       "      <td>5</td>\n",
       "      <td>673</td>\n",
       "      <td>0</td>\n",
       "      <td>0</td>\n",
       "      <td>0</td>\n",
       "      <td>1</td>\n",
       "      <td>0</td>\n",
       "      <td>0</td>\n",
       "      <td>0</td>\n",
       "      <td>0</td>\n",
       "      <td>0</td>\n",
       "      <td>0</td>\n",
       "      <td>0</td>\n",
       "      <td>0</td>\n",
       "      <td>0</td>\n",
       "      <td>0</td>\n",
       "      <td>0</td>\n",
       "      <td>1</td>\n",
       "      <td>0</td>\n",
       "      <td>0</td>\n",
       "      <td>1</td>\n",
       "      <td>0</td>\n",
       "      <td>0</td>\n",
       "      <td>1</td>\n",
       "      <td>0</td>\n",
       "      <td>0</td>\n",
       "      <td>0</td>\n",
       "      <td>0</td>\n",
       "      <td>0</td>\n",
       "      <td>0</td>\n",
       "      <td>0</td>\n",
       "      <td>1</td>\n",
       "      <td>0</td>\n",
       "      <td>0</td>\n",
       "      <td>0</td>\n",
       "      <td>0</td>\n",
       "      <td>0</td>\n",
       "      <td>1</td>\n",
       "      <td>2.0</td>\n",
       "      <td>0.0</td>\n",
       "    </tr>\n",
       "  </tbody>\n",
       "</table>\n",
       "</div>"
      ],
      "text/plain": [
       "   age  balance        ...         campaign_cleaned  previous_cleaned\n",
       "0   59     2343        ...                      1.0               0.0\n",
       "1   56       45        ...                      1.0               0.0\n",
       "2   41     1270        ...                      1.0               0.0\n",
       "3   55     2476        ...                      1.0               0.0\n",
       "4   54      184        ...                      2.0               0.0\n",
       "\n",
       "[5 rows x 42 columns]"
      ]
     },
     "execution_count": 26,
     "metadata": {},
     "output_type": "execute_result"
    }
   ],
   "source": [
    "#clean the dataset\n",
    "cleaned_df = clean_data(df)\n",
    "cleaned_df.head()"
   ]
  },
  {
   "cell_type": "markdown",
   "metadata": {
    "_uuid": "0a4fc6fd14ff5a65e5eefe9a5bea4b11197ab6fd"
   },
   "source": [
    "## Machine Learning for prediction of campaign outcome"
   ]
  },
  {
   "cell_type": "markdown",
   "metadata": {
    "_uuid": "8a617cd9aa39122d61abd8df841090ea3ca16879"
   },
   "source": [
    "### Classification model for the campaign outcome prediction"
   ]
  },
  {
   "cell_type": "markdown",
   "metadata": {
    "_uuid": "66170b27e3a272832669d83613ea334f2c5569d5"
   },
   "source": [
    "Now let's use cleaned datasets for prediction of campaign outcome with help of machine learning classification models. I will use __[XGBoost](https://xgboost.readthedocs.io/en/latest/)__, which is one of the most common machine learning libraries for modelling.\n",
    "<br> Resulting model will also help me to understand, which features have the greatest importance for the prediction of the results of the campaing."
   ]
  },
  {
   "cell_type": "markdown",
   "metadata": {
    "_uuid": "ab39af0090df8afdf4ec9128a2088fcef8d4d104"
   },
   "source": [
    "Create X and y datasets for training the model and split into train and test datasets."
   ]
  },
  {
   "cell_type": "code",
   "execution_count": 27,
   "metadata": {
    "_uuid": "e94b914d643f707996906176ba0b7d71f1e00c8e"
   },
   "outputs": [],
   "source": [
    "X = cleaned_df.drop(columns = 'deposit_bool')\n",
    "y = cleaned_df[['deposit_bool']]"
   ]
  },
  {
   "cell_type": "code",
   "execution_count": 28,
   "metadata": {
    "_uuid": "69fa180ae0a9fa806c9584737d810ac126d39770"
   },
   "outputs": [],
   "source": [
    "TEST_SIZE = 0.3\n",
    "RAND_STATE = 42"
   ]
  },
  {
   "cell_type": "code",
   "execution_count": 29,
   "metadata": {
    "_uuid": "881629ad927241dcf1251f5195a1a7ebdadbc8bc"
   },
   "outputs": [],
   "source": [
    "X_train, X_test, y_train, y_test = train_test_split(X, y, test_size = TEST_SIZE, random_state=RAND_STATE)"
   ]
  },
  {
   "cell_type": "markdown",
   "metadata": {
    "_uuid": "a00d78f6c1961030acc90a5ebff364f29935f802"
   },
   "source": [
    "Train XGBoost classifier model:"
   ]
  },
  {
   "cell_type": "code",
   "execution_count": 30,
   "metadata": {
    "_uuid": "15b081cfefb3b7467b8ea29100464b0698f992b9"
   },
   "outputs": [
    {
     "name": "stdout",
     "output_type": "stream",
     "text": [
      "XGB accuracy score for train: 0.911: test: 0.848\n"
     ]
    }
   ],
   "source": [
    "#train XGBoost model\n",
    "xgb = xgboost.XGBClassifier(n_estimators=100, learning_rate=0.08, gamma=0, subsample=0.75,\n",
    "                           colsample_bytree=1, max_depth=7)\n",
    "xgb.fit(X_train,y_train.squeeze().values)\n",
    "\n",
    "#calculate and print scores for the model for top 15 features\n",
    "y_train_preds = xgb.predict(X_train)\n",
    "y_test_preds = xgb.predict(X_test)\n",
    "\n",
    "print('XGB accuracy score for train: %.3f: test: %.3f' % (\n",
    "        accuracy_score(y_train, y_train_preds),\n",
    "        accuracy_score(y_test, y_test_preds)))"
   ]
  },
  {
   "cell_type": "markdown",
   "metadata": {
    "_uuid": "d0217001957ee35d2fed3934a8b2321ef0ab8ce1"
   },
   "source": [
    "Get the feature importances from the trained model:"
   ]
  },
  {
   "cell_type": "code",
   "execution_count": 31,
   "metadata": {
    "_uuid": "0e46dd25abb3905d1509d3b8082eaedab530eb30"
   },
   "outputs": [
    {
     "data": {
      "image/png": "[encoded data removed]",
      "text/plain": [
       "<Figure size 432x288 with 1 Axes>"
      ]
     },
     "metadata": {},
     "output_type": "display_data"
    }
   ],
   "source": [
    "#get feature importances from the model\n",
    "headers = [\"name\", \"score\"]\n",
    "values = sorted(zip(X_train.columns, xgb.feature_importances_), key=lambda x: x[1] * -1)\n",
    "xgb_feature_importances = pd.DataFrame(values, columns = headers)\n",
    "\n",
    "#plot feature importances\n",
    "x_pos = np.arange(0, len(xgb_feature_importances))\n",
    "plt.bar(x_pos, xgb_feature_importances['score'])\n",
    "plt.xticks(x_pos, xgb_feature_importances['name'])\n",
    "plt.xticks(rotation=90)\n",
    "plt.title('Feature importances (XGB)')\n",
    "\n",
    "plt.show()"
   ]
  },
  {
   "cell_type": "markdown",
   "metadata": {
    "_uuid": "dc857298d30c101e9a240402ded6bec9117f4862"
   },
   "source": [
    "As we can see from the diagram showing feature importances, the most important features are:\n",
    "* Customer's account balance,\n",
    "* Customer's age,\n",
    "* Number of contacts performed during this campaign and contact duration,\n",
    "* Number of contacts performed before this campaign."
   ]
  },
  {
   "cell_type": "markdown",
   "metadata": {
    "_uuid": "9669446a0e3ce6e48a90ed567e106499139d8a9c"
   },
   "source": [
    "So the main outcomes of the modelling are:\n",
    "* Customers of greater age are more likely to subscribe for the term deposit.\n",
    "* Customers with greater account balance are more likely to subscribe for the term deposit.\n",
    "* Number of contacts with the customers really matters. Too many contacts with the customer could make him decline the offer."
   ]
  },
  {
   "cell_type": "markdown",
   "metadata": {
    "_uuid": "eea19391b420669139630943e1fdfc83d130ecfe"
   },
   "source": [
    "Let's try to make more specific recommendations:"
   ]
  },
  {
   "cell_type": "markdown",
   "metadata": {
    "_uuid": "f17526893504507b59db6fbe7c4b00d9c3d098ec"
   },
   "source": [
    "1. Find out account balance, which marketing campaign should focus on: "
   ]
  },
  {
   "cell_type": "code",
   "execution_count": 32,
   "metadata": {
    "_uuid": "a821eb0bb1a05b76900eadd3812845b7b05e90da"
   },
   "outputs": [
    {
     "data": {
      "image/png": "[encoded data removed]",
      "text/plain": [
       "<Figure size 432x288 with 1 Axes>"
      ]
     },
     "metadata": {},
     "output_type": "display_data"
    }
   ],
   "source": [
    "df_new = cleaned_df.copy()\n",
    "\n",
    "#introduce new column 'balance_buckets' to  ''\n",
    "df_new['balance_buckets'] = pd.qcut(df_new['balance'], 50, labels=False, duplicates = 'drop')\n",
    "\n",
    "#group by 'balance_buckets' and find average campaign outcome per balance bucket\n",
    "mean_deposit = df_new.groupby(['balance_buckets'])['deposit_bool'].mean()\n",
    "\n",
    "#plot\n",
    "plt.plot(mean_deposit.index, mean_deposit.values)\n",
    "plt.title('Mean % subscription depending on account balance')\n",
    "plt.xlabel('balance bucket')\n",
    "plt.ylabel('% subscription')\n",
    "plt.show()"
   ]
  },
  {
   "cell_type": "code",
   "execution_count": 33,
   "metadata": {
    "_uuid": "ddb04e4ecc2274acd1eb18212b8553f28a5b2da2"
   },
   "outputs": [
    {
     "data": {
      "text/plain": [
       "1490"
      ]
     },
     "execution_count": 33,
     "metadata": {},
     "output_type": "execute_result"
    }
   ],
   "source": [
    "df_new[df_new['balance_buckets'] == 34]['balance'].min()"
   ]
  },
  {
   "cell_type": "markdown",
   "metadata": {
    "_uuid": "a9b5a31799c388b2022c2251b20cd3d6c4818c48"
   },
   "source": [
    "From the diagram above we can conclude, that marketing campaigns should concentrate on customers with account balance greater than 1490$."
   ]
  },
  {
   "cell_type": "code",
   "execution_count": 34,
   "metadata": {
    "_uuid": "19db5fdf8c2a2b3e10901fa0a27af553c26faa9a"
   },
   "outputs": [
    {
     "data": {
      "image/png": "[encoded data removed]",
      "text/plain": [
       "<Figure size 432x288 with 1 Axes>"
      ]
     },
     "metadata": {},
     "output_type": "display_data"
    }
   ],
   "source": [
    "#introduce new column 'age_buckets' to  ''\n",
    "df_new['age_buckets'] = pd.qcut(df_new['age'], 20, labels=False, duplicates = 'drop')\n",
    "\n",
    "#group by 'balance_buckets' and find average campaign outcome per balance bucket\n",
    "mean_age = df_new.groupby(['age_buckets'])['deposit_bool'].mean()\n",
    "\n",
    "#plot\n",
    "plt.plot(mean_age.index, mean_age.values)\n",
    "plt.title('Mean % subscription depending on age')\n",
    "plt.xlabel('age bucket')\n",
    "plt.ylabel('% subscription')\n",
    "plt.show()"
   ]
  },
  {
   "cell_type": "code",
   "execution_count": 35,
   "metadata": {
    "_uuid": "6ff0abf7e9b4a31c1af432255260b8ec80514037"
   },
   "outputs": [
    {
     "data": {
      "text/plain": [
       "31"
      ]
     },
     "execution_count": 35,
     "metadata": {},
     "output_type": "execute_result"
    }
   ],
   "source": [
    "df_new[df_new['age_buckets'] == 3]['age'].max()"
   ]
  },
  {
   "cell_type": "code",
   "execution_count": 36,
   "metadata": {
    "_uuid": "f9c7be636c4abf8aed0e9712ec62094adcad9aaf"
   },
   "outputs": [
    {
     "data": {
      "text/plain": [
       "56"
      ]
     },
     "execution_count": 36,
     "metadata": {},
     "output_type": "execute_result"
    }
   ],
   "source": [
    "df_new[df_new['age_buckets'] == 17]['age'].min()"
   ]
  },
  {
   "cell_type": "markdown",
   "metadata": {
    "_uuid": "a613870abfc89834e6d65d344c95561a972a2a26"
   },
   "source": [
    "So we see that average subscrition rate tends to be higher for customers below 31 years old or above 56 years old."
   ]
  },
  {
   "cell_type": "markdown",
   "metadata": {
    "_uuid": "23f0b89091b3b5043e930bc944b779ed77f5e1a6"
   },
   "source": [
    "3. Find out appropriate number of contacts with the customer during campaign:"
   ]
  },
  {
   "cell_type": "code",
   "execution_count": 37,
   "metadata": {
    "_uuid": "c610f063d3c07b02616264a21a710b69030d138c"
   },
   "outputs": [
    {
     "data": {
      "image/png": "[encoded data removed]",
      "text/plain": [
       "<Figure size 432x288 with 1 Axes>"
      ]
     },
     "metadata": {},
     "output_type": "display_data"
    }
   ],
   "source": [
    "#introduce new column 'age_buckets' to  ''\n",
    "df_new['campaign_buckets'] = pd.qcut(df_new['campaign_cleaned'], 20, labels=False, duplicates = 'drop')\n",
    "\n",
    "#group by 'balance_buckets' and find average campaign outcome per balance bucket\n",
    "mean_campaign = df_new.groupby(['campaign_buckets'])['deposit_bool'].mean()\n",
    "\n",
    "#plot average campaign outcome per bucket \n",
    "plt.plot(mean_campaign.index, mean_campaign.values)\n",
    "plt.title('Mean % subscription depending on number of contacts')\n",
    "plt.xlabel('number of contacts bucket')\n",
    "plt.ylabel('% subscription')\n",
    "plt.show()"
   ]
  },
  {
   "cell_type": "code",
   "execution_count": 38,
   "metadata": {
    "_uuid": "df99bc3313d0731bc7d8618ad7af9de66f863e78"
   },
   "outputs": [
    {
     "data": {
      "text/plain": [
       "4.0"
      ]
     },
     "execution_count": 38,
     "metadata": {},
     "output_type": "execute_result"
    }
   ],
   "source": [
    "df_new[df_new['campaign_buckets'] == 2]['campaign_cleaned'].min()"
   ]
  },
  {
   "cell_type": "markdown",
   "metadata": {
    "_uuid": "3654e123e2e3ca4ba44261efac4e5fd9e448044c"
   },
   "source": [
    "From the plot above we see that average subscription rate is below 50% if the number of contacts during the campaign exceeds 4."
   ]
  },
  {
   "cell_type": "markdown",
   "metadata": {
    "_uuid": "2e195eb56be9cd9a46660ba9e37c086af1c69abf"
   },
   "source": [
    "## Conclusion"
   ]
  },
  {
   "cell_type": "markdown",
   "metadata": {
    "_uuid": "5b26932886afc0d3204519479ce977016b947dff"
   },
   "source": [
    "Key outcomes of the analysis are the recommendations for future marketing campaigns:\n",
    "* The customer's account balance has a huge influence on the campaign's outcome. People with account balance above 1490$ are more likely to subscribe for term deposit, so future address those customers.\n",
    "* The customer's age affects campaign outcome as well. Future campains should concentrate on customers from age categories below 30 years old and above 50 years old.\n",
    "* Number of contacts with the customer during the campaign is also very important. The number of contacts with the customer shouldn't exceed 4."
   ]
  }
 ],
 "metadata": {
  "kernelspec": {
   "display_name": "Python 3",
   "language": "python",
   "name": "python3"
  },
  "language_info": {
   "codemirror_mode": {
    "name": "ipython",
    "version": 3
   },
   "file_extension": ".py",
   "mimetype": "text/x-python",
   "name": "python",
   "nbconvert_exporter": "python",
   "pygments_lexer": "ipython3",
   "version": "3.6.6"
  }
 },
 "nbformat": 4,
 "nbformat_minor": 1
}
