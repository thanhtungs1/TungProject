{
 "cells": [
  {
   "cell_type": "markdown",
   "metadata": {},
   "source": [
    "# 1.Load Data"
   ]
  },
  {
   "cell_type": "code",
   "execution_count": 7,
   "metadata": {},
   "outputs": [
    {
     "name": "stdout",
     "output_type": "stream",
     "text": [
      "Loaded. Basic info:\n",
      "Sale orders: (20000, 3) Order details: (49815, 3) Customers: (300, 5)\n",
      "\n",
      "-- missing values per sheet (top cols) --\n",
      "Series([], dtype: int64)\n",
      "Series([], dtype: int64)\n",
      "Series([], dtype: int64)\n",
      "\n",
      "-- duplicates / unique counts --\n",
      "unique orders in sale_order: 20000 rows: 20000\n",
      "unique orders in order_details: 20000 line items: 49815\n",
      "unique customers: 300\n"
     ]
    }
   ],
   "source": [
    "import pandas as pd\n",
    "import numpy as np\n",
    "import matplotlib.pyplot as plt\n",
    "import seaborn as sns\n",
    "\n",
    "sns.set_style(\"whitegrid\")\n",
    "plt.rcParams['figure.figsize'] = (12, 6)\n",
    "\n",
    "# load\n",
    "dfs = pd.read_excel(r\"C:\\Users\\tungdt174\\Documents\\GitHub\\TungProject\\Forcast and clustering\\VNPTEST01.xlsx\", sheet_name=None)\n",
    "df_category = dfs[\"category\"]\n",
    "df_product = dfs[\"product\"]\n",
    "df_customer = dfs[\"customer\"]\n",
    "df_sale_order = dfs[\"sale_order\"]\n",
    "df_order_details = dfs[\"order_details\"]\n",
    "\n",
    "\n",
    "# parse dates\n",
    "df_sale_order['order_date'] = pd.to_datetime(df_sale_order['order_date'], errors='coerce')\n",
    "\n",
    "print(\"Loaded. Basic info:\")\n",
    "print(\"Sale orders:\", df_sale_order.shape, \"Order details:\", df_order_details.shape, \"Customers:\", df_customer.shape)\n",
    "\n",
    "# Quick sanity checks\n",
    "print(\"\\n-- missing values per sheet (top cols) --\")\n",
    "print(df_sale_order.isna().sum().loc[lambda x: x>0].head(20))\n",
    "print(df_order_details.isna().sum().loc[lambda x: x>0].head(20))\n",
    "print(df_customer.isna().sum().loc[lambda x: x>0].head(20))\n",
    "\n",
    "# check duplicates\n",
    "print(\"\\n-- duplicates / unique counts --\")\n",
    "print(\"unique orders in sale_order:\", df_sale_order['order_id'].nunique(), \"rows:\", len(df_sale_order))\n",
    "print(\"unique orders in order_details:\", df_order_details['order_id'].nunique(), \"line items:\", len(df_order_details))\n",
    "print(\"unique customers:\", df_customer['customer_id'].nunique())\n"
   ]
  },
  {
   "cell_type": "markdown",
   "metadata": {},
   "source": [
    "# 2. Data Cleaning"
   ]
  },
  {
   "cell_type": "code",
   "execution_count": 8,
   "metadata": {},
   "outputs": [
    {
     "name": "stdout",
     "output_type": "stream",
     "text": [
      "Negative quantities: 0\n",
      "Negative prices: 0\n"
     ]
    }
   ],
   "source": [
    "# strip string columns if any\n",
    "for df in [df_product, df_customer, df_sale_order]:\n",
    "    for c in df.select_dtypes(include='object').columns:\n",
    "        df[c] = df[c].astype(str).str.strip()\n",
    "\n",
    "# ensure numeric types\n",
    "df_order_details['quantity'] = pd.to_numeric(df_order_details['quantity'], errors='coerce').fillna(0)\n",
    "if 'price' in df_product.columns:\n",
    "    df_product['price'] = pd.to_numeric(df_product['price'], errors='coerce')\n",
    "\n",
    "# check negative or zero quantity/price\n",
    "print(\"Negative quantities:\", (df_order_details['quantity'] < 0).sum())\n",
    "if 'price' in df_product.columns:\n",
    "    print(\"Negative prices:\", (df_product['price'] < 0).sum())\n"
   ]
  },
  {
   "cell_type": "markdown",
   "metadata": {},
   "source": []
  },
  {
   "cell_type": "code",
   "execution_count": 9,
   "metadata": {},
   "outputs": [],
   "source": [
    "# merge product price into order_details\n",
    "df_product_price = df_product[['product_id', 'price']] if 'price' in df_product.columns else None\n",
    "\n",
    "if df_product_price is None:\n",
    "    print(\"Warning: product price not found. order_total will be NaN unless you add prices.\")\n",
    "    # Optionally set a default price or stop here.\n",
    "else:\n",
    "    df_merged = pd.merge(df_order_details, df_product_price, on='product_id', how='left')\n",
    "    df_merged['total_price'] = df_merged['quantity'] * df_merged['price']\n",
    "\n",
    "    # order total (one row per order_id)\n",
    "    df_order_total = df_merged.groupby('order_id', as_index=False)['total_price'].sum().rename(columns={'total_price':'order_total_spend'})\n",
    "\n",
    "    # merge with sale_order\n",
    "    df_sales_full = pd.merge(df_sale_order, df_order_total, on='order_id', how='left')\n",
    "    df_sales_full['order_total_spend'] = df_sales_full['order_total_spend'].fillna(0)\n",
    "\n",
    "    # merge to customer table\n",
    "    df_customer_behavior = pd.merge(df_sales_full, df_customer[['customer_id', 'name', 'gender', 'age']], on='customer_id', how='left')\n"
   ]
  },
  {
   "cell_type": "markdown",
   "metadata": {},
   "source": [
    "# 4.Tính RFM + các chỉ số hành vi (RFM segmentation)\n",
    "\n",
    "** RFM = Recency, Frequency, Monetary — rất hữu ích để mô tả khách hàng cốt lõi. **"
   ]
  },
  {
   "cell_type": "code",
   "execution_count": 10,
   "metadata": {},
   "outputs": [],
   "source": [
    "df_customer_behavior['order_date'] = pd.to_datetime(df_customer_behavior['order_date'], errors='coerce')\n",
    "analysis_date = df_customer_behavior['order_date'].max()\n",
    "\n",
    "df_customer_summary = df_customer_behavior.groupby('customer_id').agg(\n",
    "    total_spend=('order_total_spend', 'sum'),\n",
    "    order_count=('order_id', 'nunique'),        # frequency = số order khác nhau\n",
    "    last_order_date=('order_date', 'max'),\n",
    "    first_order_date=('order_date', 'min')\n",
    ").reset_index()\n",
    "\n",
    "df_customer_summary['recency_days'] = (analysis_date - df_customer_summary['last_order_date']).dt.days\n",
    "df_customer_summary['tenure_days'] = (df_customer_summary['last_order_date'] - df_customer_summary['first_order_date']).dt.days\n",
    "\n",
    "# average order value per customer\n",
    "df_customer_summary['average_order_value'] = df_customer_summary['total_spend'] / df_customer_summary['order_count']\n",
    "\n",
    "# merge back demographic fields if needed\n",
    "df_customer_summary = df_customer_summary.merge(df_customer[['customer_id','name','gender','age']], on='customer_id', how='left')\n"
   ]
  }
 ],
 "metadata": {
  "kernelspec": {
   "display_name": "Python 3",
   "language": "python",
   "name": "python3"
  },
  "language_info": {
   "codemirror_mode": {
    "name": "ipython",
    "version": 3
   },
   "file_extension": ".py",
   "mimetype": "text/x-python",
   "name": "python",
   "nbconvert_exporter": "python",
   "pygments_lexer": "ipython3",
   "version": "3.12.6"
  }
 },
 "nbformat": 4,
 "nbformat_minor": 2
}
